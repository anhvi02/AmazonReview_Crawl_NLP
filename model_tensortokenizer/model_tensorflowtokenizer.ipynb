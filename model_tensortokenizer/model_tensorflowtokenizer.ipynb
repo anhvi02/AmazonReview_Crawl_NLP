{
 "cells": [
  {
   "cell_type": "markdown",
   "metadata": {},
   "source": [
    "# PROJECT: AMAZON REVIEW SENTIMENT ANALYSIS \n",
    "- Data: crawled using a tool developed by VI PHAM\n",
    "- Source: https://github.com/anhvi02/AmazonReview_Crawl_NLP.git"
   ]
  },
  {
   "cell_type": "code",
   "execution_count": 510,
   "metadata": {},
   "outputs": [],
   "source": [
    "import os\n",
    "import pandas as pd\n",
    "import numpy as np\n",
    "import seaborn as sns \n",
    "import matplotlib.pyplot as plt\n",
    "from tqdm import tqdm\n",
    "\n",
    "import warnings\n",
    "warnings.filterwarnings('ignore')\n",
    "\n",
    "# NN\n",
    "import tensorflow as tf\n",
    "from sklearn.model_selection import train_test_split\n",
    "from sklearn.preprocessing import LabelEncoder\n",
    "from sklearn.metrics import classification_report\n",
    "from keras.models import Model\n",
    "from keras.layers import LSTM, Activation, Dense, Dropout, Input, Embedding, Flatten, Conv1D, GlobalAveragePooling1D\n",
    "from keras.optimizers import RMSprop, Adam\n",
    "from keras.preprocessing.text import Tokenizer\n",
    "from keras.preprocessing import sequence\n",
    "from keras.utils import to_categorical\n",
    "from keras.callbacks import EarlyStopping\n",
    "from keras.utils import pad_sequences\n",
    "from tensorflow import keras \n",
    "from keras.preprocessing import sequence"
   ]
  },
  {
   "cell_type": "markdown",
   "metadata": {},
   "source": [
    "# Data"
   ]
  },
  {
   "cell_type": "code",
   "execution_count": 511,
   "metadata": {},
   "outputs": [
    {
     "data": {
      "text/html": [
       "<div>\n",
       "<style scoped>\n",
       "    .dataframe tbody tr th:only-of-type {\n",
       "        vertical-align: middle;\n",
       "    }\n",
       "\n",
       "    .dataframe tbody tr th {\n",
       "        vertical-align: top;\n",
       "    }\n",
       "\n",
       "    .dataframe thead th {\n",
       "        text-align: right;\n",
       "    }\n",
       "</style>\n",
       "<table border=\"1\" class=\"dataframe\">\n",
       "  <thead>\n",
       "    <tr style=\"text-align: right;\">\n",
       "      <th></th>\n",
       "      <th>Name</th>\n",
       "      <th>Star</th>\n",
       "      <th>Location</th>\n",
       "      <th>Date</th>\n",
       "      <th>Category</th>\n",
       "      <th>Title</th>\n",
       "      <th>Review</th>\n",
       "    </tr>\n",
       "  </thead>\n",
       "  <tbody>\n",
       "    <tr>\n",
       "      <th>0</th>\n",
       "      <td>carla w.</td>\n",
       "      <td>1.0</td>\n",
       "      <td>the United States 🇺🇸</td>\n",
       "      <td>23-Mar-22</td>\n",
       "      <td>Girl Clothing</td>\n",
       "      <td>Missing</td>\n",
       "      <td>I only received 6 pair not 12 the photo shows ...</td>\n",
       "    </tr>\n",
       "    <tr>\n",
       "      <th>1</th>\n",
       "      <td>mamma3</td>\n",
       "      <td>1.0</td>\n",
       "      <td>the United States 🇺🇸</td>\n",
       "      <td>22-Jan-13</td>\n",
       "      <td>Girl Clothing</td>\n",
       "      <td>Hane's Red Label Crew socks</td>\n",
       "      <td>I really don't like to write bad reviews but t...</td>\n",
       "    </tr>\n",
       "    <tr>\n",
       "      <th>2</th>\n",
       "      <td>DinaZ</td>\n",
       "      <td>1.0</td>\n",
       "      <td>the United States 🇺🇸</td>\n",
       "      <td>3-Jul-13</td>\n",
       "      <td>Girl Clothing</td>\n",
       "      <td>No shape to these socks</td>\n",
       "      <td>They were actually very funny as the shape was...</td>\n",
       "    </tr>\n",
       "    <tr>\n",
       "      <th>3</th>\n",
       "      <td>bronx girl</td>\n",
       "      <td>1.0</td>\n",
       "      <td>the United States 🇺🇸</td>\n",
       "      <td>7-Jul-14</td>\n",
       "      <td>Girl Clothing</td>\n",
       "      <td>tears quickly</td>\n",
       "      <td>These sock tore at the top area quickly. I wou...</td>\n",
       "    </tr>\n",
       "    <tr>\n",
       "      <th>4</th>\n",
       "      <td>Summer</td>\n",
       "      <td>2.0</td>\n",
       "      <td>the United States 🇺🇸</td>\n",
       "      <td>6-Jul-22</td>\n",
       "      <td>Girl Clothing</td>\n",
       "      <td>Terrible</td>\n",
       "      <td>These feel like polyester and washed terribly....</td>\n",
       "    </tr>\n",
       "  </tbody>\n",
       "</table>\n",
       "</div>"
      ],
      "text/plain": [
       "         Name  Star               Location       Date       Category  \\\n",
       "0    carla w.   1.0  the United States 🇺🇸   23-Mar-22  Girl Clothing   \n",
       "1      mamma3   1.0  the United States 🇺🇸   22-Jan-13  Girl Clothing   \n",
       "2       DinaZ   1.0  the United States 🇺🇸    3-Jul-13  Girl Clothing   \n",
       "3  bronx girl   1.0  the United States 🇺🇸    7-Jul-14  Girl Clothing   \n",
       "4      Summer   2.0  the United States 🇺🇸    6-Jul-22  Girl Clothing   \n",
       "\n",
       "                         Title  \\\n",
       "0                      Missing   \n",
       "1  Hane's Red Label Crew socks   \n",
       "2      No shape to these socks   \n",
       "3                tears quickly   \n",
       "4                     Terrible   \n",
       "\n",
       "                                              Review  \n",
       "0  I only received 6 pair not 12 the photo shows ...  \n",
       "1  I really don't like to write bad reviews but t...  \n",
       "2  They were actually very funny as the shape was...  \n",
       "3  These sock tore at the top area quickly. I wou...  \n",
       "4  These feel like polyester and washed terribly....  "
      ]
     },
     "execution_count": 511,
     "metadata": {},
     "output_type": "execute_result"
    }
   ],
   "source": [
    "df = pd.read_csv('AmazonData.csv')\n",
    "df.head()"
   ]
  },
  {
   "cell_type": "code",
   "execution_count": 512,
   "metadata": {},
   "outputs": [
    {
     "name": "stdout",
     "output_type": "stream",
     "text": [
      "<class 'pandas.core.frame.DataFrame'>\n",
      "RangeIndex: 18484 entries, 0 to 18483\n",
      "Data columns (total 7 columns):\n",
      " #   Column    Non-Null Count  Dtype  \n",
      "---  ------    --------------  -----  \n",
      " 0   Name      16098 non-null  object \n",
      " 1   Star      18467 non-null  float64\n",
      " 2   Location  18421 non-null  object \n",
      " 3   Date      18454 non-null  object \n",
      " 4   Category  18484 non-null  object \n",
      " 5   Title     18109 non-null  object \n",
      " 6   Review    18424 non-null  object \n",
      "dtypes: float64(1), object(6)\n",
      "memory usage: 1011.0+ KB\n"
     ]
    }
   ],
   "source": [
    "df.info()"
   ]
  },
  {
   "cell_type": "markdown",
   "metadata": {},
   "source": [
    "# Preprocessing:\n",
    " - missing values\n",
    " - duplicates\n",
    " - text handling: lowercase, lemmatize,...\n",
    " - remove outliers\n",
    " - label"
   ]
  },
  {
   "cell_type": "markdown",
   "metadata": {},
   "source": [
    "Missing value"
   ]
  },
  {
   "cell_type": "code",
   "execution_count": 513,
   "metadata": {},
   "outputs": [
    {
     "data": {
      "text/plain": [
       "Name        2386\n",
       "Star          17\n",
       "Location      63\n",
       "Date          30\n",
       "Category       0\n",
       "Title        375\n",
       "Review        60\n",
       "dtype: int64"
      ]
     },
     "execution_count": 513,
     "metadata": {},
     "output_type": "execute_result"
    }
   ],
   "source": [
    "df.isnull().sum()"
   ]
  },
  {
   "cell_type": "code",
   "execution_count": 514,
   "metadata": {},
   "outputs": [
    {
     "data": {
      "text/plain": [
       "Name        0\n",
       "Star        0\n",
       "Location    0\n",
       "Date        0\n",
       "Category    0\n",
       "Title       0\n",
       "Review      0\n",
       "dtype: int64"
      ]
     },
     "execution_count": 514,
     "metadata": {},
     "output_type": "execute_result"
    }
   ],
   "source": [
    "df = df.dropna(subset=['Review'])\n",
    "values = {'Name':'Unknown','Location':'Unknown','Title':'Unknown'}\n",
    "df = df.fillna(value=values)\n",
    "df.isnull().sum()"
   ]
  },
  {
   "cell_type": "markdown",
   "metadata": {},
   "source": [
    "Duplicates"
   ]
  },
  {
   "cell_type": "code",
   "execution_count": 515,
   "metadata": {},
   "outputs": [
    {
     "data": {
      "text/plain": [
       "(12703, 7)"
      ]
     },
     "execution_count": 515,
     "metadata": {},
     "output_type": "execute_result"
    }
   ],
   "source": [
    "df = df.drop_duplicates(subset='Review')\n",
    "df.shape"
   ]
  },
  {
   "cell_type": "markdown",
   "metadata": {},
   "source": [
    "Drop reviews not from an English speaking country"
   ]
  },
  {
   "cell_type": "code",
   "execution_count": 516,
   "metadata": {},
   "outputs": [
    {
     "data": {
      "text/plain": [
       "(12558, 7)"
      ]
     },
     "execution_count": 516,
     "metadata": {},
     "output_type": "execute_result"
    }
   ],
   "source": [
    "df = df[df['Location'].str.contains('the|Canada')]\n",
    "df.shape"
   ]
  },
  {
   "cell_type": "markdown",
   "metadata": {},
   "source": [
    "#### NLP TEXT PREPROCESSING:\n",
    "- Lowercase\n",
    "- Remove icon/emoji/symbols\n",
    "- Remove punctuations\n",
    "- Remove stop words\n",
    "- Lemmatize\n",
    "- Tokenize"
   ]
  },
  {
   "cell_type": "markdown",
   "metadata": {},
   "source": [
    "Example with a record in the dataset"
   ]
  },
  {
   "cell_type": "code",
   "execution_count": 517,
   "metadata": {},
   "outputs": [
    {
     "name": "stdout",
     "output_type": "stream",
     "text": [
      "-- Original text:  109 words\n",
      "My daughter is 7. I got these for her to wear around the house as play clothes. As she was putting them on for the first time a giant hole ripped in the seam in the butt of the pants!!! Waste of money!!! I was going to order more in different colors but I will go elsewhere! You get what you pay for but she never even got to wear these!!! I will say that she has had other children's place leggings in the past and they lasted her awhile. Idk if they switched to cheaper materials or this was just a fluke or what but I'm so disappointed!! \n",
      "\n",
      "-- Lowercase:  109 words\n",
      "my daughter is 7. i got these for her to wear around the house as play clothes. as she was putting them on for the first time a giant hole ripped in the seam in the butt of the pants!!! waste of money!!! i was going to order more in different colors but i will go elsewhere! you get what you pay for but she never even got to wear these!!! i will say that she has had other children's place leggings in the past and they lasted her awhile. idk if they switched to cheaper materials or this was just a fluke or what but i'm so disappointed!! \n",
      "\n",
      "-- Remove punctuations:  119 words\n",
      "my daughter is 7  i got these for her to wear around the house as play clothes  as she was putting them on for the first time a giant hole ripped in the seam in the butt of the pants  waste of money  i was going to order more in different colors but i will go elsewhere  you get what you pay for but she never even got to wear these  i will say that she has had other children s place leggings in the past and they lasted her awhile  idk if they switched to cheaper materials or this was just a fluke or what but i m so disappointed  \n",
      "\n",
      "-- Remove stop words:  38 words\n",
      "daughter 7 got wear house play clothes putting time giant hole ripped seam butt pants waste money going order different colors pay got wear children s place leggings past lasted awhile idk switched cheaper materials fluke m disappointed \n",
      "\n",
      "-- Lemmatize:  39 words\n",
      "daughter 7 got wear house play clothes putting time giant hole ripped seam butt pant waste money going order different color pay got wear child s place legging past lasted awhile idk switched cheaper material fluke m disappointed  \n",
      "\n",
      "-- Tokenize:  38 elements\n",
      "['daughter', '7', 'got', 'wear', 'house', 'play', 'clothes', 'putting', 'time', 'giant', 'hole', 'ripped', 'seam', 'butt', 'pant', 'waste', 'money', 'going', 'order', 'different', 'color', 'pay', 'got', 'wear', 'child', 's', 'place', 'legging', 'past', 'lasted', 'awhile', 'idk', 'switched', 'cheaper', 'material', 'fluke', 'm', 'disappointed']\n"
     ]
    }
   ],
   "source": [
    "txt = df['Review'][30]\n",
    "print('-- Original text: ', len(txt.split(' ')),'words')\n",
    "print(txt,'\\n')\n",
    "\n",
    "# lowercase\n",
    "txt = txt.lower()\n",
    "print('-- Lowercase: ', len(txt.split(' ')),'words')\n",
    "print(txt,'\\n')\n",
    "\n",
    "# remove punc\n",
    "from gensim.parsing.preprocessing import strip_punctuation\n",
    "txt = strip_punctuation(txt)\n",
    "print('-- Remove punctuations: ', len(txt.split(' ')),'words')\n",
    "print(txt,'\\n')\n",
    "\n",
    "# remove stop words\n",
    "from gensim.parsing.preprocessing import remove_stopwords\n",
    "txt = remove_stopwords(txt)\n",
    "print('-- Remove stop words: ', len(txt.split(' ')),'words')\n",
    "print(txt,'\\n')\n",
    "\n",
    "# lemmatize\n",
    "\n",
    "from nltk.stem import WordNetLemmatizer\n",
    "lemmatizer = WordNetLemmatizer()\n",
    "def lemmatize(sentence):\n",
    "    token = sentence.split(' ')\n",
    "    lem_list = ''\n",
    "    for word in token:\n",
    "        lem_list += lemmatizer.lemmatize(word) + ' '\n",
    "    return lem_list\n",
    "txt = lemmatize(txt)\n",
    "print('-- Lemmatize: ', len(txt.split(' ')),'words')\n",
    "print(txt, '\\n')\n",
    "\n",
    "# tokenize\n",
    "\n",
    "import spacy\n",
    "nlp = spacy.load('en_core_web_sm')\n",
    "tokenized = [token.text for token in nlp.tokenizer(txt)]\n",
    "print('-- Tokenize: ', len(tokenized), 'elements')\n",
    "print(tokenized)\n"
   ]
  },
  {
   "cell_type": "markdown",
   "metadata": {},
   "source": [
    "Lowercase"
   ]
  },
  {
   "cell_type": "code",
   "execution_count": 518,
   "metadata": {},
   "outputs": [],
   "source": [
    "df['Review'] = df['Review'].apply(lambda x :x.lower())"
   ]
  },
  {
   "cell_type": "markdown",
   "metadata": {},
   "source": [
    "Remove symbols and special character"
   ]
  },
  {
   "cell_type": "code",
   "execution_count": 519,
   "metadata": {},
   "outputs": [],
   "source": [
    "df['Review'] = df['Review'].str.replace('\\W', ' ', regex=True)"
   ]
  },
  {
   "cell_type": "markdown",
   "metadata": {},
   "source": [
    "Remove punctuations"
   ]
  },
  {
   "cell_type": "code",
   "execution_count": 520,
   "metadata": {},
   "outputs": [],
   "source": [
    "from gensim.parsing.preprocessing import strip_punctuation\n",
    "df['Review'] = df['Review'].apply(lambda x :strip_punctuation(x))"
   ]
  },
  {
   "cell_type": "markdown",
   "metadata": {},
   "source": [
    "Remove stop words"
   ]
  },
  {
   "cell_type": "code",
   "execution_count": 521,
   "metadata": {},
   "outputs": [],
   "source": [
    "from gensim.parsing.preprocessing import remove_stopwords\n",
    "df['Review'] = df['Review'].apply(lambda x :remove_stopwords(x))"
   ]
  },
  {
   "cell_type": "markdown",
   "metadata": {},
   "source": [
    "Lemmatize"
   ]
  },
  {
   "cell_type": "code",
   "execution_count": 522,
   "metadata": {},
   "outputs": [],
   "source": [
    "from nltk.stem import WordNetLemmatizer\n",
    "lemmatizer = WordNetLemmatizer()\n",
    "\n",
    "def lemmatize(sentence):\n",
    "    token = sentence.split(' ')\n",
    "    lem_list = ''\n",
    "    for word in token:\n",
    "        lem_list += lemmatizer.lemmatize(word) + ' '\n",
    "    return lem_list\n",
    "\n",
    "df['Review'] = df[\"Review\"].apply(lambda x : lemmatize(x))"
   ]
  },
  {
   "cell_type": "markdown",
   "metadata": {},
   "source": [
    "Tokenize"
   ]
  },
  {
   "cell_type": "code",
   "execution_count": 523,
   "metadata": {},
   "outputs": [
    {
     "data": {
      "text/html": [
       "<div>\n",
       "<style scoped>\n",
       "    .dataframe tbody tr th:only-of-type {\n",
       "        vertical-align: middle;\n",
       "    }\n",
       "\n",
       "    .dataframe tbody tr th {\n",
       "        vertical-align: top;\n",
       "    }\n",
       "\n",
       "    .dataframe thead th {\n",
       "        text-align: right;\n",
       "    }\n",
       "</style>\n",
       "<table border=\"1\" class=\"dataframe\">\n",
       "  <thead>\n",
       "    <tr style=\"text-align: right;\">\n",
       "      <th></th>\n",
       "      <th>Name</th>\n",
       "      <th>Star</th>\n",
       "      <th>Location</th>\n",
       "      <th>Date</th>\n",
       "      <th>Category</th>\n",
       "      <th>Title</th>\n",
       "      <th>Review</th>\n",
       "      <th>Review_tokenized</th>\n",
       "    </tr>\n",
       "  </thead>\n",
       "  <tbody>\n",
       "    <tr>\n",
       "      <th>0</th>\n",
       "      <td>carla w.</td>\n",
       "      <td>1.0</td>\n",
       "      <td>the United States 🇺🇸</td>\n",
       "      <td>23-Mar-22</td>\n",
       "      <td>Girl Clothing</td>\n",
       "      <td>Missing</td>\n",
       "      <td>i only received 6 pair not 12 the photo shows ...</td>\n",
       "      <td>[i, only, received, 6, pair, not, 12, the, pho...</td>\n",
       "    </tr>\n",
       "    <tr>\n",
       "      <th>1</th>\n",
       "      <td>mamma3</td>\n",
       "      <td>1.0</td>\n",
       "      <td>the United States 🇺🇸</td>\n",
       "      <td>22-Jan-13</td>\n",
       "      <td>Girl Clothing</td>\n",
       "      <td>Hane's Red Label Crew socks</td>\n",
       "      <td>i really don t like to write bad reviews but t...</td>\n",
       "      <td>[i, really, don, t, like, to, write, bad, revi...</td>\n",
       "    </tr>\n",
       "    <tr>\n",
       "      <th>2</th>\n",
       "      <td>DinaZ</td>\n",
       "      <td>1.0</td>\n",
       "      <td>the United States 🇺🇸</td>\n",
       "      <td>3-Jul-13</td>\n",
       "      <td>Girl Clothing</td>\n",
       "      <td>No shape to these socks</td>\n",
       "      <td>they were actually very funny as the shape was...</td>\n",
       "      <td>[they, were, actually, very, funny, as, the, s...</td>\n",
       "    </tr>\n",
       "  </tbody>\n",
       "</table>\n",
       "</div>"
      ],
      "text/plain": [
       "       Name  Star               Location       Date       Category  \\\n",
       "0  carla w.   1.0  the United States 🇺🇸   23-Mar-22  Girl Clothing   \n",
       "1    mamma3   1.0  the United States 🇺🇸   22-Jan-13  Girl Clothing   \n",
       "2     DinaZ   1.0  the United States 🇺🇸    3-Jul-13  Girl Clothing   \n",
       "\n",
       "                         Title  \\\n",
       "0                      Missing   \n",
       "1  Hane's Red Label Crew socks   \n",
       "2      No shape to these socks   \n",
       "\n",
       "                                              Review  \\\n",
       "0  i only received 6 pair not 12 the photo shows ...   \n",
       "1  i really don t like to write bad reviews but t...   \n",
       "2  they were actually very funny as the shape was...   \n",
       "\n",
       "                                    Review_tokenized  \n",
       "0  [i, only, received, 6, pair, not, 12, the, pho...  \n",
       "1  [i, really, don, t, like, to, write, bad, revi...  \n",
       "2  [they, were, actually, very, funny, as, the, s...  "
      ]
     },
     "execution_count": 523,
     "metadata": {},
     "output_type": "execute_result"
    }
   ],
   "source": [
    "df['Review_tokenized'] = df[\"Review\"].apply(lambda x : [token.text for token in nlp.tokenizer(x)])\n",
    "df.head(3)"
   ]
  },
  {
   "cell_type": "markdown",
   "metadata": {},
   "source": [
    "Get length of text"
   ]
  },
  {
   "cell_type": "code",
   "execution_count": 524,
   "metadata": {},
   "outputs": [
    {
     "data": {
      "text/html": [
       "<div>\n",
       "<style scoped>\n",
       "    .dataframe tbody tr th:only-of-type {\n",
       "        vertical-align: middle;\n",
       "    }\n",
       "\n",
       "    .dataframe tbody tr th {\n",
       "        vertical-align: top;\n",
       "    }\n",
       "\n",
       "    .dataframe thead th {\n",
       "        text-align: right;\n",
       "    }\n",
       "</style>\n",
       "<table border=\"1\" class=\"dataframe\">\n",
       "  <thead>\n",
       "    <tr style=\"text-align: right;\">\n",
       "      <th></th>\n",
       "      <th>Name</th>\n",
       "      <th>Star</th>\n",
       "      <th>Location</th>\n",
       "      <th>Date</th>\n",
       "      <th>Category</th>\n",
       "      <th>Title</th>\n",
       "      <th>Review</th>\n",
       "      <th>Review_tokenized</th>\n",
       "      <th>Review_len</th>\n",
       "    </tr>\n",
       "  </thead>\n",
       "  <tbody>\n",
       "    <tr>\n",
       "      <th>0</th>\n",
       "      <td>carla w.</td>\n",
       "      <td>1.0</td>\n",
       "      <td>the United States 🇺🇸</td>\n",
       "      <td>23-Mar-22</td>\n",
       "      <td>Girl Clothing</td>\n",
       "      <td>Missing</td>\n",
       "      <td>i only received 6 pair not 12 the photo shows ...</td>\n",
       "      <td>[i, only, received, 6, pair, not, 12, the, pho...</td>\n",
       "      <td>18</td>\n",
       "    </tr>\n",
       "    <tr>\n",
       "      <th>1</th>\n",
       "      <td>mamma3</td>\n",
       "      <td>1.0</td>\n",
       "      <td>the United States 🇺🇸</td>\n",
       "      <td>22-Jan-13</td>\n",
       "      <td>Girl Clothing</td>\n",
       "      <td>Hane's Red Label Crew socks</td>\n",
       "      <td>i really don t like to write bad reviews but t...</td>\n",
       "      <td>[i, really, don, t, like, to, write, bad, revi...</td>\n",
       "      <td>96</td>\n",
       "    </tr>\n",
       "    <tr>\n",
       "      <th>2</th>\n",
       "      <td>DinaZ</td>\n",
       "      <td>1.0</td>\n",
       "      <td>the United States 🇺🇸</td>\n",
       "      <td>3-Jul-13</td>\n",
       "      <td>Girl Clothing</td>\n",
       "      <td>No shape to these socks</td>\n",
       "      <td>they were actually very funny as the shape was...</td>\n",
       "      <td>[they, were, actually, very, funny, as, the, s...</td>\n",
       "      <td>49</td>\n",
       "    </tr>\n",
       "  </tbody>\n",
       "</table>\n",
       "</div>"
      ],
      "text/plain": [
       "       Name  Star               Location       Date       Category  \\\n",
       "0  carla w.   1.0  the United States 🇺🇸   23-Mar-22  Girl Clothing   \n",
       "1    mamma3   1.0  the United States 🇺🇸   22-Jan-13  Girl Clothing   \n",
       "2     DinaZ   1.0  the United States 🇺🇸    3-Jul-13  Girl Clothing   \n",
       "\n",
       "                         Title  \\\n",
       "0                      Missing   \n",
       "1  Hane's Red Label Crew socks   \n",
       "2      No shape to these socks   \n",
       "\n",
       "                                              Review  \\\n",
       "0  i only received 6 pair not 12 the photo shows ...   \n",
       "1  i really don t like to write bad reviews but t...   \n",
       "2  they were actually very funny as the shape was...   \n",
       "\n",
       "                                    Review_tokenized  Review_len  \n",
       "0  [i, only, received, 6, pair, not, 12, the, pho...          18  \n",
       "1  [i, really, don, t, like, to, write, bad, revi...          96  \n",
       "2  [they, were, actually, very, funny, as, the, s...          49  "
      ]
     },
     "execution_count": 524,
     "metadata": {},
     "output_type": "execute_result"
    }
   ],
   "source": [
    "df['Review_len']  = [len(x) for x in df['Review_tokenized']]\n",
    "df.head(3)"
   ]
  },
  {
   "cell_type": "code",
   "execution_count": 525,
   "metadata": {},
   "outputs": [
    {
     "name": "stdout",
     "output_type": "stream",
     "text": [
      "-- Total of data records: 12558\n"
     ]
    }
   ],
   "source": [
    "df = df.reset_index(drop=True)\n",
    "print('-- Total of data records:', len(df))"
   ]
  },
  {
   "cell_type": "markdown",
   "metadata": {},
   "source": [
    "Remove empty records (blank space)"
   ]
  },
  {
   "cell_type": "code",
   "execution_count": 526,
   "metadata": {},
   "outputs": [
    {
     "name": "stdout",
     "output_type": "stream",
     "text": [
      "-- Total of empty records: 2\n"
     ]
    },
    {
     "data": {
      "text/html": [
       "<div>\n",
       "<style scoped>\n",
       "    .dataframe tbody tr th:only-of-type {\n",
       "        vertical-align: middle;\n",
       "    }\n",
       "\n",
       "    .dataframe tbody tr th {\n",
       "        vertical-align: top;\n",
       "    }\n",
       "\n",
       "    .dataframe thead th {\n",
       "        text-align: right;\n",
       "    }\n",
       "</style>\n",
       "<table border=\"1\" class=\"dataframe\">\n",
       "  <thead>\n",
       "    <tr style=\"text-align: right;\">\n",
       "      <th></th>\n",
       "      <th>Name</th>\n",
       "      <th>Star</th>\n",
       "      <th>Location</th>\n",
       "      <th>Date</th>\n",
       "      <th>Category</th>\n",
       "      <th>Title</th>\n",
       "      <th>Review</th>\n",
       "      <th>Review_tokenized</th>\n",
       "      <th>Review_len</th>\n",
       "    </tr>\n",
       "  </thead>\n",
       "  <tbody>\n",
       "    <tr>\n",
       "      <th>5493</th>\n",
       "      <td>MJ BookReader</td>\n",
       "      <td>4.0</td>\n",
       "      <td>the United States</td>\n",
       "      <td>28-Nov-20</td>\n",
       "      <td>Boy Clothing</td>\n",
       "      <td>🙂</td>\n",
       "      <td></td>\n",
       "      <td>[ ]</td>\n",
       "      <td>1</td>\n",
       "    </tr>\n",
       "    <tr>\n",
       "      <th>6337</th>\n",
       "      <td>D N</td>\n",
       "      <td>4.0</td>\n",
       "      <td>the United States</td>\n",
       "      <td>29-Sep-20</td>\n",
       "      <td>Boy Clothing</td>\n",
       "      <td>👍</td>\n",
       "      <td></td>\n",
       "      <td>[ ]</td>\n",
       "      <td>1</td>\n",
       "    </tr>\n",
       "  </tbody>\n",
       "</table>\n",
       "</div>"
      ],
      "text/plain": [
       "               Name  Star            Location       Date      Category Title  \\\n",
       "5493  MJ BookReader   4.0  the United States   28-Nov-20  Boy Clothing     🙂   \n",
       "6337            D N   4.0  the United States   29-Sep-20  Boy Clothing     👍   \n",
       "\n",
       "     Review Review_tokenized  Review_len  \n",
       "5493                     [ ]           1  \n",
       "6337                     [ ]           1  "
      ]
     },
     "execution_count": 526,
     "metadata": {},
     "output_type": "execute_result"
    }
   ],
   "source": [
    "df_empty =df[df['Review'] == ' ']\n",
    "print('-- Total of empty records:', len(df_empty))\n",
    "df_empty.head(3)"
   ]
  },
  {
   "cell_type": "code",
   "execution_count": 527,
   "metadata": {},
   "outputs": [
    {
     "name": "stdout",
     "output_type": "stream",
     "text": [
      "-- Total of data records after dropping empty records: 12556\n"
     ]
    }
   ],
   "source": [
    "df = df.drop(df_empty.index)\n",
    "df = df.reset_index(drop=True)\n",
    "print('-- Total of data records after dropping empty records:', len(df))"
   ]
  },
  {
   "cell_type": "markdown",
   "metadata": {},
   "source": [
    "Plotting length of reviews"
   ]
  },
  {
   "cell_type": "code",
   "execution_count": 528,
   "metadata": {},
   "outputs": [
    {
     "data": {
      "image/png": "[encoded data removed]",
      "text/plain": [
       "<Figure size 800x600 with 1 Axes>"
      ]
     },
     "metadata": {},
     "output_type": "display_data"
    }
   ],
   "source": [
    "figure = plt.figure(figsize=(8,6))\n",
    "sns.boxplot(df['Review_len'])\n",
    "plt.show()"
   ]
  },
  {
   "cell_type": "markdown",
   "metadata": {},
   "source": [
    "Base on the distribution of review length. I will remove reviews that have more than 150 words and empty: most of data has less than 150 words (only 222 records have above 150 words)"
   ]
  },
  {
   "cell_type": "code",
   "execution_count": 529,
   "metadata": {},
   "outputs": [
    {
     "name": "stdout",
     "output_type": "stream",
     "text": [
      "-- Total of records has more than 150 words: 953\n"
     ]
    }
   ],
   "source": [
    "thres_len = 150\n",
    "count = len(df[df['Review_len'] > thres_len])\n",
    "print('-- Total of records has more than 150 words:', count)\n"
   ]
  },
  {
   "cell_type": "code",
   "execution_count": 530,
   "metadata": {},
   "outputs": [
    {
     "name": "stdout",
     "output_type": "stream",
     "text": [
      "-- Data Shape: \n"
     ]
    },
    {
     "data": {
      "text/plain": [
       "(11595, 9)"
      ]
     },
     "execution_count": 530,
     "metadata": {},
     "output_type": "execute_result"
    }
   ],
   "source": [
    "df = df[df['Review_len'] < thres_len]\n",
    "print('-- Data Shape: ')\n",
    "df.shape "
   ]
  },
  {
   "cell_type": "markdown",
   "metadata": {},
   "source": [
    "Length of reviews distribution after dropping records"
   ]
  },
  {
   "cell_type": "code",
   "execution_count": 531,
   "metadata": {},
   "outputs": [
    {
     "data": {
      "image/png": "[encoded data removed]",
      "text/plain": [
       "<Figure size 800x600 with 1 Axes>"
      ]
     },
     "metadata": {},
     "output_type": "display_data"
    }
   ],
   "source": [
    "figure = plt.figure(figsize=(8,6))\n",
    "sns.boxplot(df['Review_len'])\n",
    "plt.show()"
   ]
  },
  {
   "cell_type": "markdown",
   "metadata": {},
   "source": [
    "Labeling:\n",
    "- 1 and 2 stars: Negative (labeled 0)\n",
    "- 3 stars: Neutral (labeled 1)\n",
    "- 4 and 5 stars: Positive (labeled 2)"
   ]
  },
  {
   "cell_type": "code",
   "execution_count": 532,
   "metadata": {},
   "outputs": [
    {
     "data": {
      "text/html": [
       "<div>\n",
       "<style scoped>\n",
       "    .dataframe tbody tr th:only-of-type {\n",
       "        vertical-align: middle;\n",
       "    }\n",
       "\n",
       "    .dataframe tbody tr th {\n",
       "        vertical-align: top;\n",
       "    }\n",
       "\n",
       "    .dataframe thead th {\n",
       "        text-align: right;\n",
       "    }\n",
       "</style>\n",
       "<table border=\"1\" class=\"dataframe\">\n",
       "  <thead>\n",
       "    <tr style=\"text-align: right;\">\n",
       "      <th></th>\n",
       "      <th>Name</th>\n",
       "      <th>Star</th>\n",
       "      <th>Location</th>\n",
       "      <th>Date</th>\n",
       "      <th>Category</th>\n",
       "      <th>Title</th>\n",
       "      <th>Review</th>\n",
       "      <th>Review_tokenized</th>\n",
       "      <th>Review_len</th>\n",
       "      <th>label</th>\n",
       "    </tr>\n",
       "  </thead>\n",
       "  <tbody>\n",
       "    <tr>\n",
       "      <th>0</th>\n",
       "      <td>carla w.</td>\n",
       "      <td>1.0</td>\n",
       "      <td>the United States 🇺🇸</td>\n",
       "      <td>23-Mar-22</td>\n",
       "      <td>Girl Clothing</td>\n",
       "      <td>Missing</td>\n",
       "      <td>i only received 6 pair not 12 the photo shows ...</td>\n",
       "      <td>[i, only, received, 6, pair, not, 12, the, pho...</td>\n",
       "      <td>18</td>\n",
       "      <td>0</td>\n",
       "    </tr>\n",
       "    <tr>\n",
       "      <th>1</th>\n",
       "      <td>mamma3</td>\n",
       "      <td>1.0</td>\n",
       "      <td>the United States 🇺🇸</td>\n",
       "      <td>22-Jan-13</td>\n",
       "      <td>Girl Clothing</td>\n",
       "      <td>Hane's Red Label Crew socks</td>\n",
       "      <td>i really don t like to write bad reviews but t...</td>\n",
       "      <td>[i, really, don, t, like, to, write, bad, revi...</td>\n",
       "      <td>96</td>\n",
       "      <td>0</td>\n",
       "    </tr>\n",
       "    <tr>\n",
       "      <th>2</th>\n",
       "      <td>DinaZ</td>\n",
       "      <td>1.0</td>\n",
       "      <td>the United States 🇺🇸</td>\n",
       "      <td>3-Jul-13</td>\n",
       "      <td>Girl Clothing</td>\n",
       "      <td>No shape to these socks</td>\n",
       "      <td>they were actually very funny as the shape was...</td>\n",
       "      <td>[they, were, actually, very, funny, as, the, s...</td>\n",
       "      <td>49</td>\n",
       "      <td>0</td>\n",
       "    </tr>\n",
       "  </tbody>\n",
       "</table>\n",
       "</div>"
      ],
      "text/plain": [
       "       Name  Star               Location       Date       Category  \\\n",
       "0  carla w.   1.0  the United States 🇺🇸   23-Mar-22  Girl Clothing   \n",
       "1    mamma3   1.0  the United States 🇺🇸   22-Jan-13  Girl Clothing   \n",
       "2     DinaZ   1.0  the United States 🇺🇸    3-Jul-13  Girl Clothing   \n",
       "\n",
       "                         Title  \\\n",
       "0                      Missing   \n",
       "1  Hane's Red Label Crew socks   \n",
       "2      No shape to these socks   \n",
       "\n",
       "                                              Review  \\\n",
       "0  i only received 6 pair not 12 the photo shows ...   \n",
       "1  i really don t like to write bad reviews but t...   \n",
       "2  they were actually very funny as the shape was...   \n",
       "\n",
       "                                    Review_tokenized  Review_len  label  \n",
       "0  [i, only, received, 6, pair, not, 12, the, pho...          18      0  \n",
       "1  [i, really, don, t, like, to, write, bad, revi...          96      0  \n",
       "2  [they, were, actually, very, funny, as, the, s...          49      0  "
      ]
     },
     "execution_count": 532,
     "metadata": {},
     "output_type": "execute_result"
    }
   ],
   "source": [
    "df['label'] = 0\n",
    "df.loc[df['Star'] ==  3, 'label'] = 1\n",
    "df.loc[df['Star'] >  3, 'label'] = 2\n",
    "df.head(3)"
   ]
  },
  {
   "cell_type": "code",
   "execution_count": 533,
   "metadata": {},
   "outputs": [
    {
     "data": {
      "image/png": "[encoded data removed]",
      "text/plain": [
       "<Figure size 640x480 with 1 Axes>"
      ]
     },
     "metadata": {},
     "output_type": "display_data"
    }
   ],
   "source": [
    "sns.countplot(df['label'])\n",
    "plt.show()"
   ]
  },
  {
   "cell_type": "markdown",
   "metadata": {},
   "source": [
    "# TRANSFORM DATA:"
   ]
  },
  {
   "cell_type": "markdown",
   "metadata": {},
   "source": [
    "One-hot-encode label"
   ]
  },
  {
   "cell_type": "code",
   "execution_count": 534,
   "metadata": {},
   "outputs": [],
   "source": [
    "x = df['Review']\n",
    "\n",
    "labels = df['label']\n",
    "y = to_categorical(labels)"
   ]
  },
  {
   "cell_type": "code",
   "execution_count": 535,
   "metadata": {},
   "outputs": [
    {
     "data": {
      "text/plain": [
       "(11595,)"
      ]
     },
     "execution_count": 535,
     "metadata": {},
     "output_type": "execute_result"
    }
   ],
   "source": [
    "x.shape"
   ]
  },
  {
   "cell_type": "code",
   "execution_count": 536,
   "metadata": {},
   "outputs": [
    {
     "data": {
      "text/plain": [
       "(11595, 3)"
      ]
     },
     "execution_count": 536,
     "metadata": {},
     "output_type": "execute_result"
    }
   ],
   "source": [
    "y.shape"
   ]
  },
  {
   "cell_type": "code",
   "execution_count": 537,
   "metadata": {},
   "outputs": [
    {
     "name": "stdout",
     "output_type": "stream",
     "text": [
      "-- Train data: \n",
      "x: (9500,)\n",
      "y: (9500, 3)\n",
      "-- Validation data: \n",
      "x: (1500,)\n",
      "y: (1500, 3)\n",
      "-- Test data: \n",
      "x: (595,)\n",
      "y: (595, 3)\n"
     ]
    }
   ],
   "source": [
    "training_size = 11000\n",
    "valid_size = 1500\n",
    "x_train_val = x[:training_size]\n",
    "y_train_val = y[:training_size]\n",
    "\n",
    "x_val = x_train_val[:valid_size]\n",
    "y_val = y_train_val[:valid_size]\n",
    "\n",
    "x_train = x_train_val[valid_size:]\n",
    "y_train = y_train_val[valid_size:]\n",
    "\n",
    "x_test  = x[training_size:]\n",
    "y_test  = y[training_size:]\n",
    "\n",
    "print('-- Train data: ')\n",
    "print('x:',x_train.shape)\n",
    "print('y:',y_train.shape)\n",
    "\n",
    "print('-- Validation data: ')\n",
    "print('x:',x_val.shape)\n",
    "print('y:',y_val.shape)\n",
    "\n",
    "print('-- Test data: ')\n",
    "print('x:',x_test.shape)\n",
    "print('y:',y_test.shape)"
   ]
  },
  {
   "cell_type": "code",
   "execution_count": 538,
   "metadata": {},
   "outputs": [
    {
     "name": "stdout",
     "output_type": "stream",
     "text": [
      "-- Total of vocabularies in dataset:  11147\n"
     ]
    }
   ],
   "source": [
    "word_cnt = []\n",
    "for it in df['Review_tokenized']:\n",
    "    for word in it:\n",
    "        if word not in word_cnt:\n",
    "            word_cnt.append(word)\n",
    "print('-- Total of vocabularies in dataset: ',len(word_cnt))\n"
   ]
  },
  {
   "cell_type": "code",
   "execution_count": 539,
   "metadata": {},
   "outputs": [],
   "source": [
    "vocab_size = 3000\n",
    "max_seq = 150\n",
    "def generate_token(data, max_seq, vocab_size, padding_type = 'post', trunc_type = 'post'):\n",
    "    tokenizer = Tokenizer(num_words=vocab_size,oov_token=\"<OOV>\")\n",
    "    tokenizer.fit_on_texts(data)\n",
    "    word_index = tokenizer.word_index\n",
    "    sequences = tokenizer.texts_to_sequences(data)\n",
    "    padded = keras.utils.pad_sequences(sequences, maxlen=max_seq, padding=padding_type, truncating=trunc_type)\n",
    "    return padded"
   ]
  },
  {
   "cell_type": "code",
   "execution_count": 540,
   "metadata": {},
   "outputs": [
    {
     "data": {
      "text/plain": [
       "(9500, 150)"
      ]
     },
     "execution_count": 540,
     "metadata": {},
     "output_type": "execute_result"
    }
   ],
   "source": [
    "x_train = generate_token(x_train,max_seq,vocab_size)\n",
    "x_train.shape"
   ]
  },
  {
   "cell_type": "code",
   "execution_count": 541,
   "metadata": {},
   "outputs": [
    {
     "data": {
      "text/plain": [
       "(1500, 150)"
      ]
     },
     "execution_count": 541,
     "metadata": {},
     "output_type": "execute_result"
    }
   ],
   "source": [
    "x_val = generate_token(x_val, max_seq,vocab_size)\n",
    "x_val.shape"
   ]
  },
  {
   "cell_type": "code",
   "execution_count": 542,
   "metadata": {},
   "outputs": [
    {
     "data": {
      "text/plain": [
       "(595, 150)"
      ]
     },
     "execution_count": 542,
     "metadata": {},
     "output_type": "execute_result"
    }
   ],
   "source": [
    "x_test = generate_token(x_test,max_seq,vocab_size)\n",
    "x_test.shape"
   ]
  },
  {
   "cell_type": "markdown",
   "metadata": {},
   "source": [
    "# MODELING"
   ]
  },
  {
   "cell_type": "code",
   "execution_count": 543,
   "metadata": {},
   "outputs": [
    {
     "name": "stdout",
     "output_type": "stream",
     "text": [
      "Model: \"sequential_22\"\n",
      "_________________________________________________________________\n",
      " Layer (type)                Output Shape              Param #   \n",
      "=================================================================\n",
      " embedding_22 (Embedding)    (None, 150, 16)           48000     \n",
      "                                                                 \n",
      " conv1d_15 (Conv1D)          (None, 148, 128)          6272      \n",
      "                                                                 \n",
      " global_average_pooling1d_19  (None, 128)              0         \n",
      "  (GlobalAveragePooling1D)                                       \n",
      "                                                                 \n",
      " dense_35 (Dense)            (None, 64)                8256      \n",
      "                                                                 \n",
      " dense_36 (Dense)            (None, 3)                 195       \n",
      "                                                                 \n",
      "=================================================================\n",
      "Total params: 62,723\n",
      "Trainable params: 62,723\n",
      "Non-trainable params: 0\n",
      "_________________________________________________________________\n"
     ]
    }
   ],
   "source": [
    "vocab_size = 3000\n",
    "embedding_dim = 16\n",
    "max_seq = 150\n",
    "num_filter = 128\n",
    "\n",
    "model = tf.keras.Sequential()\n",
    "model.add(Embedding(vocab_size, embedding_dim, input_length=max_seq))\n",
    "\n",
    "model.add(Conv1D(num_filter,(3),padding='valid', activation='relu'))\n",
    "model.add(GlobalAveragePooling1D())\n",
    "\n",
    "\n",
    "model.add(Dense(64, activation='relu'))\n",
    "model.add(Dense(3, activation='softmax'))\n",
    "\n",
    "model.compile(loss='categorical_crossentropy',optimizer='adam' ,metrics=['accuracy'])\n",
    "model.summary()"
   ]
  },
  {
   "cell_type": "code",
   "execution_count": 544,
   "metadata": {},
   "outputs": [
    {
     "name": "stdout",
     "output_type": "stream",
     "text": [
      "Epoch 1/5\n",
      "75/75 [==============================] - 3s 25ms/step - loss: 1.0490 - accuracy: 0.4423 - val_loss: 1.0460 - val_accuracy: 0.4340\n",
      "Epoch 2/5\n",
      "75/75 [==============================] - 2s 25ms/step - loss: 1.0085 - accuracy: 0.5043 - val_loss: 1.0467 - val_accuracy: 0.4433\n",
      "Epoch 3/5\n",
      "75/75 [==============================] - 2s 24ms/step - loss: 0.8346 - accuracy: 0.6441 - val_loss: 1.1595 - val_accuracy: 0.4467\n",
      "Epoch 4/5\n",
      "75/75 [==============================] - 2s 24ms/step - loss: 0.7095 - accuracy: 0.6979 - val_loss: 1.2675 - val_accuracy: 0.4413\n",
      "Epoch 5/5\n",
      "75/75 [==============================] - 2s 24ms/step - loss: 0.6617 - accuracy: 0.7177 - val_loss: 1.3400 - val_accuracy: 0.4280\n"
     ]
    }
   ],
   "source": [
    "num_epochs = 5\n",
    "batch_size = 128\n",
    "history = model.fit(x_train, y_train, \n",
    "                    epochs=num_epochs, \n",
    "                    batch_size=batch_size,\n",
    "                    validation_data=(x_val,y_val), \n",
    "                    verbose=1)"
   ]
  },
  {
   "cell_type": "code",
   "execution_count": 545,
   "metadata": {},
   "outputs": [
    {
     "name": "stdout",
     "output_type": "stream",
     "text": [
      "5/5 [==============================] - 0s 8ms/step - loss: 1.1686 - accuracy: 0.4891\n"
     ]
    }
   ],
   "source": [
    "loss, acc = model.evaluate(x_test, y_test,\n",
    "                            batch_size=batch_size)"
   ]
  },
  {
   "cell_type": "code",
   "execution_count": 546,
   "metadata": {},
   "outputs": [
    {
     "data": {
      "image/png": "[encoded data removed]",
      "text/plain": [
       "<Figure size 800x600 with 1 Axes>"
      ]
     },
     "metadata": {},
     "output_type": "display_data"
    }
   ],
   "source": [
    "figure = plt.figure(figsize=(8,6))               \n",
    "plt.plot(history.history['accuracy'], label='train')\n",
    "\n",
    "plt.plot(history.history['val_accuracy'], label = 'validation')\n",
    "\n",
    "plt.xlabel('Epoch')\n",
    "plt.ylabel('Accuracy')\n",
    "plt.ylim([0.3, 1])\n",
    "plt.legend(loc='lower right')\n",
    "plt.show()"
   ]
  },
  {
   "cell_type": "code",
   "execution_count": 547,
   "metadata": {},
   "outputs": [
    {
     "data": {
      "image/png": "[encoded data removed]",
      "text/plain": [
       "<Figure size 800x600 with 1 Axes>"
      ]
     },
     "metadata": {},
     "output_type": "display_data"
    }
   ],
   "source": [
    "figure = plt.figure(figsize=(8,6))               \n",
    "plt.plot(history.history['loss'], label='train')\n",
    "\n",
    "plt.plot(history.history['val_loss'], label = 'validation')\n",
    "\n",
    "plt.xlabel('Epoch')\n",
    "plt.ylabel('Loss')\n",
    "plt.ylim([0, 1.5])\n",
    "plt.legend(loc='lower right')\n",
    "plt.show()"
   ]
  },
  {
   "cell_type": "code",
   "execution_count": null,
   "metadata": {},
   "outputs": [],
   "source": []
  }
 ],
 "metadata": {
  "kernelspec": {
   "display_name": "Python 3.10.7 64-bit",
   "language": "python",
   "name": "python3"
  },
  "language_info": {
   "codemirror_mode": {
    "name": "ipython",
    "version": 3
   },
   "file_extension": ".py",
   "mimetype": "text/x-python",
   "name": "python",
   "nbconvert_exporter": "python",
   "pygments_lexer": "ipython3",
   "version": "3.10.7"
  },
  "orig_nbformat": 4,
  "vscode": {
   "interpreter": {
    "hash": "aee8b7b246df8f9039afb4144a1f6fd8d2ca17a180786b69acc140d282b71a49"
   }
  }
 },
 "nbformat": 4,
 "nbformat_minor": 2
}
