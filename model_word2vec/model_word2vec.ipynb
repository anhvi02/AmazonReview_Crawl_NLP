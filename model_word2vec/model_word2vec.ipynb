{
 "cells": [
  {
   "cell_type": "markdown",
   "metadata": {},
   "source": [
    "# PROJECT: AMAZON REVIEW SENTIMENT ANALYSIS \n",
    "- Data: crawled using a tool developed by VI PHAM\n",
    "- Source: https://github.com/anhvi02/AmazonReview_Crawl_NLP.git"
   ]
  },
  {
   "cell_type": "code",
   "execution_count": 40,
   "metadata": {},
   "outputs": [],
   "source": [
    "import os\n",
    "import pandas as pd\n",
    "import numpy as np\n",
    "import seaborn as sns \n",
    "import matplotlib.pyplot as plt\n",
    "from tqdm import tqdm\n",
    "\n",
    "import warnings\n",
    "warnings.filterwarnings('ignore')\n",
    "\n",
    "# NLP preprocess\n",
    "import gensim\n",
    "from gensim.models import Word2Vec\n",
    "# NN\n",
    "import tensorflow as tf\n",
    "from sklearn.model_selection import train_test_split\n",
    "from sklearn.preprocessing import LabelEncoder\n",
    "from sklearn.metrics import classification_report\n",
    "from keras.models import Model\n",
    "from keras.layers import LSTM, Activation, Dense, Dropout, Input, Embedding, Flatten, Conv1D, GlobalAveragePooling1D, MaxPooling1D, Conv2D\n",
    "from keras.optimizers import RMSprop, Adam\n",
    "from keras.preprocessing.text import Tokenizer\n",
    "from keras.preprocessing import sequence\n",
    "from keras.utils import to_categorical\n",
    "from keras.callbacks import EarlyStopping\n",
    "from keras.utils import pad_sequences\n",
    "from tensorflow import keras \n",
    "from keras.preprocessing import sequence"
   ]
  },
  {
   "cell_type": "markdown",
   "metadata": {},
   "source": [
    "# Data"
   ]
  },
  {
   "cell_type": "code",
   "execution_count": 41,
   "metadata": {},
   "outputs": [
    {
     "data": {
      "text/html": [
       "<div>\n",
       "<style scoped>\n",
       "    .dataframe tbody tr th:only-of-type {\n",
       "        vertical-align: middle;\n",
       "    }\n",
       "\n",
       "    .dataframe tbody tr th {\n",
       "        vertical-align: top;\n",
       "    }\n",
       "\n",
       "    .dataframe thead th {\n",
       "        text-align: right;\n",
       "    }\n",
       "</style>\n",
       "<table border=\"1\" class=\"dataframe\">\n",
       "  <thead>\n",
       "    <tr style=\"text-align: right;\">\n",
       "      <th></th>\n",
       "      <th>Name</th>\n",
       "      <th>Star</th>\n",
       "      <th>Location</th>\n",
       "      <th>Date</th>\n",
       "      <th>Category</th>\n",
       "      <th>Title</th>\n",
       "      <th>Review</th>\n",
       "    </tr>\n",
       "  </thead>\n",
       "  <tbody>\n",
       "    <tr>\n",
       "      <th>0</th>\n",
       "      <td>carla w.</td>\n",
       "      <td>1.0</td>\n",
       "      <td>the United States 🇺🇸</td>\n",
       "      <td>23-Mar-22</td>\n",
       "      <td>Girl Clothing</td>\n",
       "      <td>Missing</td>\n",
       "      <td>I only received 6 pair not 12 the photo shows ...</td>\n",
       "    </tr>\n",
       "    <tr>\n",
       "      <th>1</th>\n",
       "      <td>mamma3</td>\n",
       "      <td>1.0</td>\n",
       "      <td>the United States 🇺🇸</td>\n",
       "      <td>22-Jan-13</td>\n",
       "      <td>Girl Clothing</td>\n",
       "      <td>Hane's Red Label Crew socks</td>\n",
       "      <td>I really don't like to write bad reviews but t...</td>\n",
       "    </tr>\n",
       "    <tr>\n",
       "      <th>2</th>\n",
       "      <td>DinaZ</td>\n",
       "      <td>1.0</td>\n",
       "      <td>the United States 🇺🇸</td>\n",
       "      <td>3-Jul-13</td>\n",
       "      <td>Girl Clothing</td>\n",
       "      <td>No shape to these socks</td>\n",
       "      <td>They were actually very funny as the shape was...</td>\n",
       "    </tr>\n",
       "    <tr>\n",
       "      <th>3</th>\n",
       "      <td>bronx girl</td>\n",
       "      <td>1.0</td>\n",
       "      <td>the United States 🇺🇸</td>\n",
       "      <td>7-Jul-14</td>\n",
       "      <td>Girl Clothing</td>\n",
       "      <td>tears quickly</td>\n",
       "      <td>These sock tore at the top area quickly. I wou...</td>\n",
       "    </tr>\n",
       "    <tr>\n",
       "      <th>4</th>\n",
       "      <td>Summer</td>\n",
       "      <td>2.0</td>\n",
       "      <td>the United States 🇺🇸</td>\n",
       "      <td>6-Jul-22</td>\n",
       "      <td>Girl Clothing</td>\n",
       "      <td>Terrible</td>\n",
       "      <td>These feel like polyester and washed terribly....</td>\n",
       "    </tr>\n",
       "  </tbody>\n",
       "</table>\n",
       "</div>"
      ],
      "text/plain": [
       "         Name  Star               Location       Date       Category  \\\n",
       "0    carla w.   1.0  the United States 🇺🇸   23-Mar-22  Girl Clothing   \n",
       "1      mamma3   1.0  the United States 🇺🇸   22-Jan-13  Girl Clothing   \n",
       "2       DinaZ   1.0  the United States 🇺🇸    3-Jul-13  Girl Clothing   \n",
       "3  bronx girl   1.0  the United States 🇺🇸    7-Jul-14  Girl Clothing   \n",
       "4      Summer   2.0  the United States 🇺🇸    6-Jul-22  Girl Clothing   \n",
       "\n",
       "                         Title  \\\n",
       "0                      Missing   \n",
       "1  Hane's Red Label Crew socks   \n",
       "2      No shape to these socks   \n",
       "3                tears quickly   \n",
       "4                     Terrible   \n",
       "\n",
       "                                              Review  \n",
       "0  I only received 6 pair not 12 the photo shows ...  \n",
       "1  I really don't like to write bad reviews but t...  \n",
       "2  They were actually very funny as the shape was...  \n",
       "3  These sock tore at the top area quickly. I wou...  \n",
       "4  These feel like polyester and washed terribly....  "
      ]
     },
     "execution_count": 41,
     "metadata": {},
     "output_type": "execute_result"
    }
   ],
   "source": [
    "df = pd.read_csv('AmazonData.csv')\n",
    "df.head()"
   ]
  },
  {
   "cell_type": "code",
   "execution_count": 42,
   "metadata": {},
   "outputs": [
    {
     "name": "stdout",
     "output_type": "stream",
     "text": [
      "<class 'pandas.core.frame.DataFrame'>\n",
      "RangeIndex: 18484 entries, 0 to 18483\n",
      "Data columns (total 7 columns):\n",
      " #   Column    Non-Null Count  Dtype  \n",
      "---  ------    --------------  -----  \n",
      " 0   Name      16098 non-null  object \n",
      " 1   Star      18467 non-null  float64\n",
      " 2   Location  18421 non-null  object \n",
      " 3   Date      18454 non-null  object \n",
      " 4   Category  18484 non-null  object \n",
      " 5   Title     18109 non-null  object \n",
      " 6   Review    18424 non-null  object \n",
      "dtypes: float64(1), object(6)\n",
      "memory usage: 1011.0+ KB\n"
     ]
    }
   ],
   "source": [
    "df.info()"
   ]
  },
  {
   "cell_type": "markdown",
   "metadata": {},
   "source": [
    "# Preprocessing:\n",
    " - missing values\n",
    " - duplicates\n",
    " - text handling: lowercase, lemmatize,...\n",
    " - remove outliers\n",
    " - label"
   ]
  },
  {
   "cell_type": "markdown",
   "metadata": {},
   "source": [
    "Missing value"
   ]
  },
  {
   "cell_type": "code",
   "execution_count": 43,
   "metadata": {},
   "outputs": [
    {
     "data": {
      "text/plain": [
       "Name        2386\n",
       "Star          17\n",
       "Location      63\n",
       "Date          30\n",
       "Category       0\n",
       "Title        375\n",
       "Review        60\n",
       "dtype: int64"
      ]
     },
     "execution_count": 43,
     "metadata": {},
     "output_type": "execute_result"
    }
   ],
   "source": [
    "df.isnull().sum()"
   ]
  },
  {
   "cell_type": "code",
   "execution_count": 44,
   "metadata": {},
   "outputs": [
    {
     "data": {
      "text/plain": [
       "Name        0\n",
       "Star        0\n",
       "Location    0\n",
       "Date        0\n",
       "Category    0\n",
       "Title       0\n",
       "Review      0\n",
       "dtype: int64"
      ]
     },
     "execution_count": 44,
     "metadata": {},
     "output_type": "execute_result"
    }
   ],
   "source": [
    "df = df.dropna(subset=['Review'])\n",
    "values = {'Name':'Unknown','Location':'Unknown','Title':'Unknown'}\n",
    "df = df.fillna(value=values)\n",
    "df.isnull().sum()"
   ]
  },
  {
   "cell_type": "markdown",
   "metadata": {},
   "source": [
    "Duplicates"
   ]
  },
  {
   "cell_type": "code",
   "execution_count": 45,
   "metadata": {},
   "outputs": [
    {
     "data": {
      "text/plain": [
       "(12703, 7)"
      ]
     },
     "execution_count": 45,
     "metadata": {},
     "output_type": "execute_result"
    }
   ],
   "source": [
    "df = df.drop_duplicates(subset='Review')\n",
    "df.shape"
   ]
  },
  {
   "cell_type": "markdown",
   "metadata": {},
   "source": [
    "Drop reviews not from an English speaking country"
   ]
  },
  {
   "cell_type": "code",
   "execution_count": 46,
   "metadata": {},
   "outputs": [
    {
     "data": {
      "text/plain": [
       "(12558, 7)"
      ]
     },
     "execution_count": 46,
     "metadata": {},
     "output_type": "execute_result"
    }
   ],
   "source": [
    "df = df[df['Location'].str.contains('the|Canada')]\n",
    "df.shape"
   ]
  },
  {
   "cell_type": "markdown",
   "metadata": {},
   "source": [
    "#### NLP TEXT PREPROCESSING:\n",
    "- Lowercase\n",
    "- Remove icon/emoji/symbols\n",
    "- Remove punctuations\n",
    "- Remove stop words\n",
    "- Lemmatize\n",
    "- Tokenize"
   ]
  },
  {
   "cell_type": "markdown",
   "metadata": {},
   "source": [
    "Example with a record in the dataset"
   ]
  },
  {
   "cell_type": "code",
   "execution_count": 47,
   "metadata": {},
   "outputs": [
    {
     "name": "stdout",
     "output_type": "stream",
     "text": [
      "-- Original text:  109 words\n",
      "My daughter is 7. I got these for her to wear around the house as play clothes. As she was putting them on for the first time a giant hole ripped in the seam in the butt of the pants!!! Waste of money!!! I was going to order more in different colors but I will go elsewhere! You get what you pay for but she never even got to wear these!!! I will say that she has had other children's place leggings in the past and they lasted her awhile. Idk if they switched to cheaper materials or this was just a fluke or what but I'm so disappointed!! \n",
      "\n",
      "-- Lowercase:  109 words\n",
      "my daughter is 7. i got these for her to wear around the house as play clothes. as she was putting them on for the first time a giant hole ripped in the seam in the butt of the pants!!! waste of money!!! i was going to order more in different colors but i will go elsewhere! you get what you pay for but she never even got to wear these!!! i will say that she has had other children's place leggings in the past and they lasted her awhile. idk if they switched to cheaper materials or this was just a fluke or what but i'm so disappointed!! \n",
      "\n",
      "-- Remove punctuations:  119 words\n",
      "my daughter is 7  i got these for her to wear around the house as play clothes  as she was putting them on for the first time a giant hole ripped in the seam in the butt of the pants  waste of money  i was going to order more in different colors but i will go elsewhere  you get what you pay for but she never even got to wear these  i will say that she has had other children s place leggings in the past and they lasted her awhile  idk if they switched to cheaper materials or this was just a fluke or what but i m so disappointed  \n",
      "\n",
      "-- Remove stop words:  38 words\n",
      "daughter 7 got wear house play clothes putting time giant hole ripped seam butt pants waste money going order different colors pay got wear children s place leggings past lasted awhile idk switched cheaper materials fluke m disappointed \n",
      "\n",
      "-- Lemmatize:  39 words\n",
      "daughter 7 got wear house play clothes putting time giant hole ripped seam butt pant waste money going order different color pay got wear child s place legging past lasted awhile idk switched cheaper material fluke m disappointed  \n",
      "\n",
      "-- Tokenize:  38 elements\n",
      "['daughter', '7', 'got', 'wear', 'house', 'play', 'clothes', 'putting', 'time', 'giant', 'hole', 'ripped', 'seam', 'butt', 'pant', 'waste', 'money', 'going', 'order', 'different', 'color', 'pay', 'got', 'wear', 'child', 's', 'place', 'legging', 'past', 'lasted', 'awhile', 'idk', 'switched', 'cheaper', 'material', 'fluke', 'm', 'disappointed']\n"
     ]
    }
   ],
   "source": [
    "txt = df['Review'][30]\n",
    "print('-- Original text: ', len(txt.split(' ')),'words')\n",
    "print(txt,'\\n')\n",
    "\n",
    "# lowercase\n",
    "txt = txt.lower()\n",
    "print('-- Lowercase: ', len(txt.split(' ')),'words')\n",
    "print(txt,'\\n')\n",
    "\n",
    "# remove punc\n",
    "from gensim.parsing.preprocessing import strip_punctuation\n",
    "txt = strip_punctuation(txt)\n",
    "print('-- Remove punctuations: ', len(txt.split(' ')),'words')\n",
    "print(txt,'\\n')\n",
    "\n",
    "# remove stop words\n",
    "from gensim.parsing.preprocessing import remove_stopwords\n",
    "txt = remove_stopwords(txt)\n",
    "print('-- Remove stop words: ', len(txt.split(' ')),'words')\n",
    "print(txt,'\\n')\n",
    "\n",
    "# lemmatize\n",
    "\n",
    "from nltk.stem import WordNetLemmatizer\n",
    "lemmatizer = WordNetLemmatizer()\n",
    "def lemmatize(sentence):\n",
    "    token = sentence.split(' ')\n",
    "    lem_list = ''\n",
    "    for word in token:\n",
    "        lem_list += lemmatizer.lemmatize(word) + ' '\n",
    "    return lem_list\n",
    "txt = lemmatize(txt)\n",
    "print('-- Lemmatize: ', len(txt.split(' ')),'words')\n",
    "print(txt, '\\n')\n",
    "\n",
    "# tokenize\n",
    "\n",
    "import spacy\n",
    "nlp = spacy.load('en_core_web_sm')\n",
    "tokenized = [token.text for token in nlp.tokenizer(txt)]\n",
    "print('-- Tokenize: ', len(tokenized), 'elements')\n",
    "print(tokenized)\n"
   ]
  },
  {
   "cell_type": "markdown",
   "metadata": {},
   "source": [
    "Lowercase"
   ]
  },
  {
   "cell_type": "code",
   "execution_count": 48,
   "metadata": {},
   "outputs": [],
   "source": [
    "df['Review'] = df['Review'].apply(lambda x :x.lower())"
   ]
  },
  {
   "cell_type": "markdown",
   "metadata": {},
   "source": [
    "Remove symbols/emoji/special character"
   ]
  },
  {
   "cell_type": "code",
   "execution_count": 49,
   "metadata": {},
   "outputs": [],
   "source": [
    "df['Review'] = df['Review'].str.replace('\\W', ' ', regex=True)"
   ]
  },
  {
   "cell_type": "markdown",
   "metadata": {},
   "source": [
    "Remove punctuations"
   ]
  },
  {
   "cell_type": "code",
   "execution_count": 50,
   "metadata": {},
   "outputs": [],
   "source": [
    "from gensim.parsing.preprocessing import strip_punctuation\n",
    "df['Review'] = df['Review'].apply(lambda x :strip_punctuation(x))"
   ]
  },
  {
   "cell_type": "markdown",
   "metadata": {},
   "source": [
    "Remove stop words"
   ]
  },
  {
   "cell_type": "code",
   "execution_count": 51,
   "metadata": {},
   "outputs": [],
   "source": [
    "from gensim.parsing.preprocessing import remove_stopwords\n",
    "df['Review'] = df['Review'].apply(lambda x :remove_stopwords(x))"
   ]
  },
  {
   "cell_type": "markdown",
   "metadata": {},
   "source": [
    "Lemmatize"
   ]
  },
  {
   "cell_type": "code",
   "execution_count": 52,
   "metadata": {},
   "outputs": [],
   "source": [
    "from nltk.stem import WordNetLemmatizer\n",
    "lemmatizer = WordNetLemmatizer()\n",
    "\n",
    "def lemmatize(sentence):\n",
    "    token = sentence.split(' ')\n",
    "    lem_list = ''\n",
    "    for word in token:\n",
    "        lem_list += lemmatizer.lemmatize(word) + ' '\n",
    "    return lem_list\n",
    "\n",
    "df['Review'] = df[\"Review\"].apply(lambda x : lemmatize(x))"
   ]
  },
  {
   "cell_type": "markdown",
   "metadata": {},
   "source": [
    "Tokenize"
   ]
  },
  {
   "cell_type": "code",
   "execution_count": 53,
   "metadata": {},
   "outputs": [
    {
     "data": {
      "text/html": [
       "<div>\n",
       "<style scoped>\n",
       "    .dataframe tbody tr th:only-of-type {\n",
       "        vertical-align: middle;\n",
       "    }\n",
       "\n",
       "    .dataframe tbody tr th {\n",
       "        vertical-align: top;\n",
       "    }\n",
       "\n",
       "    .dataframe thead th {\n",
       "        text-align: right;\n",
       "    }\n",
       "</style>\n",
       "<table border=\"1\" class=\"dataframe\">\n",
       "  <thead>\n",
       "    <tr style=\"text-align: right;\">\n",
       "      <th></th>\n",
       "      <th>Name</th>\n",
       "      <th>Star</th>\n",
       "      <th>Location</th>\n",
       "      <th>Date</th>\n",
       "      <th>Category</th>\n",
       "      <th>Title</th>\n",
       "      <th>Review</th>\n",
       "      <th>Review_tokenized</th>\n",
       "    </tr>\n",
       "  </thead>\n",
       "  <tbody>\n",
       "    <tr>\n",
       "      <th>0</th>\n",
       "      <td>carla w.</td>\n",
       "      <td>1.0</td>\n",
       "      <td>the United States 🇺🇸</td>\n",
       "      <td>23-Mar-22</td>\n",
       "      <td>Girl Clothing</td>\n",
       "      <td>Missing</td>\n",
       "      <td>received 6 pair 12 photo show 12 pair d like r...</td>\n",
       "      <td>[received, 6, pair, 12, photo, show, 12, pair,...</td>\n",
       "    </tr>\n",
       "    <tr>\n",
       "      <th>1</th>\n",
       "      <td>mamma3</td>\n",
       "      <td>1.0</td>\n",
       "      <td>the United States 🇺🇸</td>\n",
       "      <td>22-Jan-13</td>\n",
       "      <td>Girl Clothing</td>\n",
       "      <td>Hane's Red Label Crew socks</td>\n",
       "      <td>t like write bad review sock good white cushio...</td>\n",
       "      <td>[t, like, write, bad, review, sock, good, whit...</td>\n",
       "    </tr>\n",
       "    <tr>\n",
       "      <th>2</th>\n",
       "      <td>DinaZ</td>\n",
       "      <td>1.0</td>\n",
       "      <td>the United States 🇺🇸</td>\n",
       "      <td>3-Jul-13</td>\n",
       "      <td>Girl Clothing</td>\n",
       "      <td>No shape to these socks</td>\n",
       "      <td>actually funny shape balloon like tube ankle w...</td>\n",
       "      <td>[actually, funny, shape, balloon, like, tube, ...</td>\n",
       "    </tr>\n",
       "  </tbody>\n",
       "</table>\n",
       "</div>"
      ],
      "text/plain": [
       "       Name  Star               Location       Date       Category  \\\n",
       "0  carla w.   1.0  the United States 🇺🇸   23-Mar-22  Girl Clothing   \n",
       "1    mamma3   1.0  the United States 🇺🇸   22-Jan-13  Girl Clothing   \n",
       "2     DinaZ   1.0  the United States 🇺🇸    3-Jul-13  Girl Clothing   \n",
       "\n",
       "                         Title  \\\n",
       "0                      Missing   \n",
       "1  Hane's Red Label Crew socks   \n",
       "2      No shape to these socks   \n",
       "\n",
       "                                              Review  \\\n",
       "0  received 6 pair 12 photo show 12 pair d like r...   \n",
       "1  t like write bad review sock good white cushio...   \n",
       "2  actually funny shape balloon like tube ankle w...   \n",
       "\n",
       "                                    Review_tokenized  \n",
       "0  [received, 6, pair, 12, photo, show, 12, pair,...  \n",
       "1  [t, like, write, bad, review, sock, good, whit...  \n",
       "2  [actually, funny, shape, balloon, like, tube, ...  "
      ]
     },
     "execution_count": 53,
     "metadata": {},
     "output_type": "execute_result"
    }
   ],
   "source": [
    "df['Review_tokenized'] = df[\"Review\"].apply(lambda x : [token.text for token in nlp.tokenizer(x)])\n",
    "df.head(3)"
   ]
  },
  {
   "cell_type": "markdown",
   "metadata": {},
   "source": [
    "Get length of text"
   ]
  },
  {
   "cell_type": "code",
   "execution_count": 54,
   "metadata": {},
   "outputs": [
    {
     "data": {
      "text/html": [
       "<div>\n",
       "<style scoped>\n",
       "    .dataframe tbody tr th:only-of-type {\n",
       "        vertical-align: middle;\n",
       "    }\n",
       "\n",
       "    .dataframe tbody tr th {\n",
       "        vertical-align: top;\n",
       "    }\n",
       "\n",
       "    .dataframe thead th {\n",
       "        text-align: right;\n",
       "    }\n",
       "</style>\n",
       "<table border=\"1\" class=\"dataframe\">\n",
       "  <thead>\n",
       "    <tr style=\"text-align: right;\">\n",
       "      <th></th>\n",
       "      <th>Name</th>\n",
       "      <th>Star</th>\n",
       "      <th>Location</th>\n",
       "      <th>Date</th>\n",
       "      <th>Category</th>\n",
       "      <th>Title</th>\n",
       "      <th>Review</th>\n",
       "      <th>Review_tokenized</th>\n",
       "      <th>Review_len</th>\n",
       "    </tr>\n",
       "  </thead>\n",
       "  <tbody>\n",
       "    <tr>\n",
       "      <th>0</th>\n",
       "      <td>carla w.</td>\n",
       "      <td>1.0</td>\n",
       "      <td>the United States 🇺🇸</td>\n",
       "      <td>23-Mar-22</td>\n",
       "      <td>Girl Clothing</td>\n",
       "      <td>Missing</td>\n",
       "      <td>received 6 pair 12 photo show 12 pair d like r...</td>\n",
       "      <td>[received, 6, pair, 12, photo, show, 12, pair,...</td>\n",
       "      <td>11</td>\n",
       "    </tr>\n",
       "    <tr>\n",
       "      <th>1</th>\n",
       "      <td>mamma3</td>\n",
       "      <td>1.0</td>\n",
       "      <td>the United States 🇺🇸</td>\n",
       "      <td>22-Jan-13</td>\n",
       "      <td>Girl Clothing</td>\n",
       "      <td>Hane's Red Label Crew socks</td>\n",
       "      <td>t like write bad review sock good white cushio...</td>\n",
       "      <td>[t, like, write, bad, review, sock, good, whit...</td>\n",
       "      <td>39</td>\n",
       "    </tr>\n",
       "    <tr>\n",
       "      <th>2</th>\n",
       "      <td>DinaZ</td>\n",
       "      <td>1.0</td>\n",
       "      <td>the United States 🇺🇸</td>\n",
       "      <td>3-Jul-13</td>\n",
       "      <td>Girl Clothing</td>\n",
       "      <td>No shape to these socks</td>\n",
       "      <td>actually funny shape balloon like tube ankle w...</td>\n",
       "      <td>[actually, funny, shape, balloon, like, tube, ...</td>\n",
       "      <td>19</td>\n",
       "    </tr>\n",
       "  </tbody>\n",
       "</table>\n",
       "</div>"
      ],
      "text/plain": [
       "       Name  Star               Location       Date       Category  \\\n",
       "0  carla w.   1.0  the United States 🇺🇸   23-Mar-22  Girl Clothing   \n",
       "1    mamma3   1.0  the United States 🇺🇸   22-Jan-13  Girl Clothing   \n",
       "2     DinaZ   1.0  the United States 🇺🇸    3-Jul-13  Girl Clothing   \n",
       "\n",
       "                         Title  \\\n",
       "0                      Missing   \n",
       "1  Hane's Red Label Crew socks   \n",
       "2      No shape to these socks   \n",
       "\n",
       "                                              Review  \\\n",
       "0  received 6 pair 12 photo show 12 pair d like r...   \n",
       "1  t like write bad review sock good white cushio...   \n",
       "2  actually funny shape balloon like tube ankle w...   \n",
       "\n",
       "                                    Review_tokenized  Review_len  \n",
       "0  [received, 6, pair, 12, photo, show, 12, pair,...          11  \n",
       "1  [t, like, write, bad, review, sock, good, whit...          39  \n",
       "2  [actually, funny, shape, balloon, like, tube, ...          19  "
      ]
     },
     "execution_count": 54,
     "metadata": {},
     "output_type": "execute_result"
    }
   ],
   "source": [
    "df['Review_len']  = [len(x) for x in df['Review_tokenized']]\n",
    "df.head(3)"
   ]
  },
  {
   "cell_type": "code",
   "execution_count": 55,
   "metadata": {},
   "outputs": [
    {
     "name": "stdout",
     "output_type": "stream",
     "text": [
      "-- Total of data records: 12558\n"
     ]
    }
   ],
   "source": [
    "df = df.reset_index(drop=True)\n",
    "print('-- Total of data records:', len(df))"
   ]
  },
  {
   "cell_type": "markdown",
   "metadata": {},
   "source": [
    "Remove empty records (blank space)"
   ]
  },
  {
   "cell_type": "code",
   "execution_count": 56,
   "metadata": {},
   "outputs": [
    {
     "name": "stdout",
     "output_type": "stream",
     "text": [
      "-- Total of empty records: 22\n"
     ]
    },
    {
     "data": {
      "text/html": [
       "<div>\n",
       "<style scoped>\n",
       "    .dataframe tbody tr th:only-of-type {\n",
       "        vertical-align: middle;\n",
       "    }\n",
       "\n",
       "    .dataframe tbody tr th {\n",
       "        vertical-align: top;\n",
       "    }\n",
       "\n",
       "    .dataframe thead th {\n",
       "        text-align: right;\n",
       "    }\n",
       "</style>\n",
       "<table border=\"1\" class=\"dataframe\">\n",
       "  <thead>\n",
       "    <tr style=\"text-align: right;\">\n",
       "      <th></th>\n",
       "      <th>Name</th>\n",
       "      <th>Star</th>\n",
       "      <th>Location</th>\n",
       "      <th>Date</th>\n",
       "      <th>Category</th>\n",
       "      <th>Title</th>\n",
       "      <th>Review</th>\n",
       "      <th>Review_tokenized</th>\n",
       "      <th>Review_len</th>\n",
       "    </tr>\n",
       "  </thead>\n",
       "  <tbody>\n",
       "    <tr>\n",
       "      <th>955</th>\n",
       "      <td>Elida Alvarez</td>\n",
       "      <td>2.0</td>\n",
       "      <td>the United States 🇺🇸</td>\n",
       "      <td>10-Dec-19</td>\n",
       "      <td>Girl Clothing</td>\n",
       "      <td>If warm enough for cool weather</td>\n",
       "      <td></td>\n",
       "      <td>[ ]</td>\n",
       "      <td>1</td>\n",
       "    </tr>\n",
       "    <tr>\n",
       "      <th>1565</th>\n",
       "      <td>suzanne Van Leer</td>\n",
       "      <td>3.0</td>\n",
       "      <td>the United States 🇺🇸</td>\n",
       "      <td>1-Oct-22</td>\n",
       "      <td>Girl Clothing</td>\n",
       "      <td>Thin</td>\n",
       "      <td></td>\n",
       "      <td>[ ]</td>\n",
       "      <td>1</td>\n",
       "    </tr>\n",
       "    <tr>\n",
       "      <th>4135</th>\n",
       "      <td>David Whitis</td>\n",
       "      <td>3.0</td>\n",
       "      <td>the United States</td>\n",
       "      <td>12-Dec-19</td>\n",
       "      <td>Boy Clothing</td>\n",
       "      <td>Too thin</td>\n",
       "      <td></td>\n",
       "      <td>[ ]</td>\n",
       "      <td>1</td>\n",
       "    </tr>\n",
       "  </tbody>\n",
       "</table>\n",
       "</div>"
      ],
      "text/plain": [
       "                  Name  Star               Location       Date       Category  \\\n",
       "955      Elida Alvarez   2.0  the United States 🇺🇸   10-Dec-19  Girl Clothing   \n",
       "1565  suzanne Van Leer   3.0  the United States 🇺🇸    1-Oct-22  Girl Clothing   \n",
       "4135      David Whitis   3.0     the United States   12-Dec-19   Boy Clothing   \n",
       "\n",
       "                                Title Review Review_tokenized  Review_len  \n",
       "955   If warm enough for cool weather                     [ ]           1  \n",
       "1565                             Thin                     [ ]           1  \n",
       "4135                         Too thin                     [ ]           1  "
      ]
     },
     "execution_count": 56,
     "metadata": {},
     "output_type": "execute_result"
    }
   ],
   "source": [
    "df_empty =df[df['Review'] == ' ']\n",
    "print('-- Total of empty records:', len(df_empty))\n",
    "df_empty.head(3)"
   ]
  },
  {
   "cell_type": "code",
   "execution_count": 57,
   "metadata": {},
   "outputs": [
    {
     "name": "stdout",
     "output_type": "stream",
     "text": [
      "-- Total of data records after dropping empty records: 12536\n"
     ]
    }
   ],
   "source": [
    "df = df.drop(df_empty.index)\n",
    "df = df.reset_index(drop=True)\n",
    "print('-- Total of data records after dropping empty records:', len(df))"
   ]
  },
  {
   "cell_type": "markdown",
   "metadata": {},
   "source": [
    "Plotting length of reviews"
   ]
  },
  {
   "cell_type": "code",
   "execution_count": 58,
   "metadata": {},
   "outputs": [
    {
     "data": {
      "image/png": "[encoded data removed]",
      "text/plain": [
       "<Figure size 800x600 with 1 Axes>"
      ]
     },
     "metadata": {},
     "output_type": "display_data"
    }
   ],
   "source": [
    "figure = plt.figure(figsize=(8,6))\n",
    "sns.boxplot(df['Review_len'])\n",
    "plt.show()"
   ]
  },
  {
   "cell_type": "markdown",
   "metadata": {},
   "source": [
    "Base on the distribution of review length. I will remove reviews that have more than 150 words and empty: most of data has less than 150 words (only 222 records have above 150 words)"
   ]
  },
  {
   "cell_type": "code",
   "execution_count": 59,
   "metadata": {},
   "outputs": [
    {
     "name": "stdout",
     "output_type": "stream",
     "text": [
      "-- Total of records has more than 150 words: 217\n"
     ]
    }
   ],
   "source": [
    "max_seq = 150\n",
    "count = len(df[df['Review_len'] >  max_seq])\n",
    "print('-- Total of records has more than 150 words:', count)\n"
   ]
  },
  {
   "cell_type": "code",
   "execution_count": 60,
   "metadata": {},
   "outputs": [
    {
     "name": "stdout",
     "output_type": "stream",
     "text": [
      "-- Data Shape: \n"
     ]
    },
    {
     "data": {
      "text/plain": [
       "(12318, 9)"
      ]
     },
     "execution_count": 60,
     "metadata": {},
     "output_type": "execute_result"
    }
   ],
   "source": [
    "df = df[df['Review_len'] < max_seq ]\n",
    "print('-- Data Shape: ')\n",
    "df.shape "
   ]
  },
  {
   "cell_type": "markdown",
   "metadata": {},
   "source": [
    "Length of reviews distribution after dropping records"
   ]
  },
  {
   "cell_type": "code",
   "execution_count": 61,
   "metadata": {},
   "outputs": [
    {
     "data": {
      "image/png": "[encoded data removed]",
      "text/plain": [
       "<Figure size 800x600 with 1 Axes>"
      ]
     },
     "metadata": {},
     "output_type": "display_data"
    }
   ],
   "source": [
    "figure = plt.figure(figsize=(8,6))\n",
    "sns.boxplot(df['Review_len'])\n",
    "plt.show()"
   ]
  },
  {
   "cell_type": "markdown",
   "metadata": {},
   "source": [
    "Labeling:\n",
    "- 1 and 2 stars: Negative (labeled 0)\n",
    "- 3 stars: Neutral (labeled 1)\n",
    "- 4 and 5 stars: Positive (labeled 2)"
   ]
  },
  {
   "cell_type": "code",
   "execution_count": 62,
   "metadata": {},
   "outputs": [
    {
     "data": {
      "text/html": [
       "<div>\n",
       "<style scoped>\n",
       "    .dataframe tbody tr th:only-of-type {\n",
       "        vertical-align: middle;\n",
       "    }\n",
       "\n",
       "    .dataframe tbody tr th {\n",
       "        vertical-align: top;\n",
       "    }\n",
       "\n",
       "    .dataframe thead th {\n",
       "        text-align: right;\n",
       "    }\n",
       "</style>\n",
       "<table border=\"1\" class=\"dataframe\">\n",
       "  <thead>\n",
       "    <tr style=\"text-align: right;\">\n",
       "      <th></th>\n",
       "      <th>Name</th>\n",
       "      <th>Star</th>\n",
       "      <th>Location</th>\n",
       "      <th>Date</th>\n",
       "      <th>Category</th>\n",
       "      <th>Title</th>\n",
       "      <th>Review</th>\n",
       "      <th>Review_tokenized</th>\n",
       "      <th>Review_len</th>\n",
       "      <th>label</th>\n",
       "    </tr>\n",
       "  </thead>\n",
       "  <tbody>\n",
       "    <tr>\n",
       "      <th>0</th>\n",
       "      <td>carla w.</td>\n",
       "      <td>1.0</td>\n",
       "      <td>the United States 🇺🇸</td>\n",
       "      <td>23-Mar-22</td>\n",
       "      <td>Girl Clothing</td>\n",
       "      <td>Missing</td>\n",
       "      <td>received 6 pair 12 photo show 12 pair d like r...</td>\n",
       "      <td>[received, 6, pair, 12, photo, show, 12, pair,...</td>\n",
       "      <td>11</td>\n",
       "      <td>0</td>\n",
       "    </tr>\n",
       "    <tr>\n",
       "      <th>1</th>\n",
       "      <td>mamma3</td>\n",
       "      <td>1.0</td>\n",
       "      <td>the United States 🇺🇸</td>\n",
       "      <td>22-Jan-13</td>\n",
       "      <td>Girl Clothing</td>\n",
       "      <td>Hane's Red Label Crew socks</td>\n",
       "      <td>t like write bad review sock good white cushio...</td>\n",
       "      <td>[t, like, write, bad, review, sock, good, whit...</td>\n",
       "      <td>39</td>\n",
       "      <td>0</td>\n",
       "    </tr>\n",
       "    <tr>\n",
       "      <th>2</th>\n",
       "      <td>DinaZ</td>\n",
       "      <td>1.0</td>\n",
       "      <td>the United States 🇺🇸</td>\n",
       "      <td>3-Jul-13</td>\n",
       "      <td>Girl Clothing</td>\n",
       "      <td>No shape to these socks</td>\n",
       "      <td>actually funny shape balloon like tube ankle w...</td>\n",
       "      <td>[actually, funny, shape, balloon, like, tube, ...</td>\n",
       "      <td>19</td>\n",
       "      <td>0</td>\n",
       "    </tr>\n",
       "  </tbody>\n",
       "</table>\n",
       "</div>"
      ],
      "text/plain": [
       "       Name  Star               Location       Date       Category  \\\n",
       "0  carla w.   1.0  the United States 🇺🇸   23-Mar-22  Girl Clothing   \n",
       "1    mamma3   1.0  the United States 🇺🇸   22-Jan-13  Girl Clothing   \n",
       "2     DinaZ   1.0  the United States 🇺🇸    3-Jul-13  Girl Clothing   \n",
       "\n",
       "                         Title  \\\n",
       "0                      Missing   \n",
       "1  Hane's Red Label Crew socks   \n",
       "2      No shape to these socks   \n",
       "\n",
       "                                              Review  \\\n",
       "0  received 6 pair 12 photo show 12 pair d like r...   \n",
       "1  t like write bad review sock good white cushio...   \n",
       "2  actually funny shape balloon like tube ankle w...   \n",
       "\n",
       "                                    Review_tokenized  Review_len  label  \n",
       "0  [received, 6, pair, 12, photo, show, 12, pair,...          11      0  \n",
       "1  [t, like, write, bad, review, sock, good, whit...          39      0  \n",
       "2  [actually, funny, shape, balloon, like, tube, ...          19      0  "
      ]
     },
     "execution_count": 62,
     "metadata": {},
     "output_type": "execute_result"
    }
   ],
   "source": [
    "df['label'] = 0\n",
    "df.loc[df['Star'] ==  3, 'label'] = 1\n",
    "df.loc[df['Star'] >  3, 'label'] = 2\n",
    "df.head(3)"
   ]
  },
  {
   "cell_type": "code",
   "execution_count": 63,
   "metadata": {},
   "outputs": [
    {
     "data": {
      "image/png": "[encoded data removed]",
      "text/plain": [
       "<Figure size 640x480 with 1 Axes>"
      ]
     },
     "metadata": {},
     "output_type": "display_data"
    }
   ],
   "source": [
    "sns.countplot(df['label'])\n",
    "plt.show()"
   ]
  },
  {
   "cell_type": "markdown",
   "metadata": {},
   "source": [
    "# TRANSFORM DATA:"
   ]
  },
  {
   "cell_type": "markdown",
   "metadata": {},
   "source": [
    "One-hot-encode label"
   ]
  },
  {
   "cell_type": "code",
   "execution_count": 64,
   "metadata": {},
   "outputs": [],
   "source": [
    "x = df['Review_tokenized']\n",
    "\n",
    "labels = df['label']\n",
    "y = to_categorical(labels)"
   ]
  },
  {
   "cell_type": "code",
   "execution_count": 65,
   "metadata": {},
   "outputs": [
    {
     "data": {
      "text/plain": [
       "(12318,)"
      ]
     },
     "execution_count": 65,
     "metadata": {},
     "output_type": "execute_result"
    }
   ],
   "source": [
    "x.shape"
   ]
  },
  {
   "cell_type": "code",
   "execution_count": 66,
   "metadata": {},
   "outputs": [
    {
     "data": {
      "text/plain": [
       "(12318, 3)"
      ]
     },
     "execution_count": 66,
     "metadata": {},
     "output_type": "execute_result"
    }
   ],
   "source": [
    "y.shape"
   ]
  },
  {
   "cell_type": "code",
   "execution_count": 67,
   "metadata": {},
   "outputs": [
    {
     "name": "stdout",
     "output_type": "stream",
     "text": [
      "-- Train data: \n",
      "x: (9500,)\n",
      "y: (9500, 3)\n",
      "-- Validation data: \n",
      "x: (1500,)\n",
      "y: (1500, 3)\n",
      "-- Test data: \n",
      "x: (1318,)\n",
      "y: (1318, 3)\n"
     ]
    }
   ],
   "source": [
    "training_size = 11000\n",
    "valid_size = 1500\n",
    "\n",
    "# split dât (tensorflow does not support split function)\n",
    "x_train_val = x[:training_size]\n",
    "y_train_val = y[:training_size]\n",
    "\n",
    "x_val = x_train_val[:valid_size]\n",
    "y_val = y_train_val[:valid_size]\n",
    "\n",
    "x_train = x_train_val[valid_size:]\n",
    "y_train = y_train_val[valid_size:]\n",
    "\n",
    "x_test  = x[training_size:]\n",
    "y_test  = y[training_size:]\n",
    "\n",
    "print('-- Train data: ')\n",
    "print('x:',x_train.shape)\n",
    "print('y:',y_train.shape)\n",
    "\n",
    "print('-- Validation data: ')\n",
    "print('x:',x_val.shape)\n",
    "print('y:',y_val.shape)\n",
    "\n",
    "print('-- Test data: ')\n",
    "print('x:',x_test.shape)\n",
    "print('y:',y_test.shape)"
   ]
  },
  {
   "cell_type": "markdown",
   "metadata": {},
   "source": [
    "# Word2Vec model"
   ]
  },
  {
   "cell_type": "markdown",
   "metadata": {},
   "source": [
    "Train W2V model"
   ]
  },
  {
   "cell_type": "code",
   "execution_count": 68,
   "metadata": {},
   "outputs": [],
   "source": [
    "word_cnt = []\n",
    "for it in df['Review_tokenized']:\n",
    "    for word in it:\n",
    "        if word not in word_cnt:\n",
    "            word_cnt.append(word)\n",
    "print('-- Total of vocabularies in dataset: ',len(word_cnt))"
   ]
  },
  {
   "cell_type": "code",
   "execution_count": 69,
   "metadata": {},
   "outputs": [],
   "source": [
    "# vocab_size = 8000\n",
    "max_seq = 150\n",
    "model = gensim.models.Word2Vec(\n",
    "    window=10,\n",
    "    min_count=2,\n",
    "    workers=4,\n",
    "    size=max_seq\n",
    ")\n",
    "token_text = x_train\n",
    "model.build_vocab(token_text, progress_per=1000)\n",
    "\n",
    "\n",
    "print(f'Corpus and Epochs of model: {model.corpus_count}, {model.epochs}')\n",
    "\n",
    "model.train(token_text, total_examples=model.corpus_count, epochs=model.epochs)\n",
    "\n",
    "model.save(\"w2v_review.model\")"
   ]
  },
  {
   "cell_type": "markdown",
   "metadata": {},
   "source": [
    "Import W2V model"
   ]
  },
  {
   "cell_type": "code",
   "execution_count": 70,
   "metadata": {},
   "outputs": [],
   "source": [
    "from gensim.models import KeyedVectors\n",
    "wv = KeyedVectors.load('w2v_review.model')"
   ]
  },
  {
   "cell_type": "code",
   "execution_count": 71,
   "metadata": {},
   "outputs": [
    {
     "data": {
      "text/plain": [
       "(150,)"
      ]
     },
     "execution_count": 71,
     "metadata": {},
     "output_type": "execute_result"
    }
   ],
   "source": [
    "wv['hate'].shape"
   ]
  },
  {
   "cell_type": "code",
   "execution_count": 72,
   "metadata": {},
   "outputs": [
    {
     "data": {
      "text/plain": [
       "0.9546231"
      ]
     },
     "execution_count": 72,
     "metadata": {},
     "output_type": "execute_result"
    }
   ],
   "source": [
    "wv.similarity(\"cheap\", \"expensive\")"
   ]
  },
  {
   "cell_type": "markdown",
   "metadata": {},
   "source": [
    "Vectorize reviews"
   ]
  },
  {
   "cell_type": "code",
   "execution_count": 73,
   "metadata": {},
   "outputs": [],
   "source": [
    "def vectorize(txt):\n",
    "    vector_size = wv.vector_size\n",
    "    wv_res = np.zeros(vector_size)\n",
    "    # print(wv_res)\n",
    "    ctr = 1\n",
    "    for w in txt:\n",
    "        if w in wv:\n",
    "            ctr += 1\n",
    "            wv_res += wv[w]\n",
    "        # else:\n",
    "        #     wv_res += 0\n",
    "    wv_res = wv_res/ctr\n",
    "    return wv_res"
   ]
  },
  {
   "cell_type": "code",
   "execution_count": 74,
   "metadata": {},
   "outputs": [],
   "source": [
    "x_train = x_train.apply(lambda x: vectorize(x)).to_list()\n",
    "x_val = x_val.apply(lambda x: vectorize(x)).to_list()\n",
    "x_test = x_test.apply(lambda x: vectorize(x)).to_list()"
   ]
  },
  {
   "cell_type": "code",
   "execution_count": 75,
   "metadata": {},
   "outputs": [],
   "source": [
    "x_train = np.array(x_train)\n",
    "x_train = x_train.reshape(x_train.shape[0], x_train.shape[1], 1)\n",
    "y_train = np.array(y_train)\n",
    "\n",
    "x_val = np.array(x_val)\n",
    "x_val = x_val.reshape(x_val.shape[0], x_val.shape[1], 1)\n",
    "y_val= np.array(y_val)\n",
    "\n",
    "x_test = np.array(x_test)\n",
    "x_test = x_test.reshape(x_test.shape[0], x_test.shape[1], 1)\n",
    "y_test = np.array(y_test)"
   ]
  },
  {
   "cell_type": "code",
   "execution_count": 76,
   "metadata": {},
   "outputs": [
    {
     "name": "stdout",
     "output_type": "stream",
     "text": [
      "-- Train data: \n",
      "x: (9500, 150, 1)\n",
      "y: (9500, 3)\n",
      "-- Validation data: \n",
      "x: (1500, 150, 1)\n",
      "y: (1500, 3)\n",
      "-- Test data: \n",
      "x: (1318, 150, 1)\n",
      "y: (1318, 3)\n"
     ]
    }
   ],
   "source": [
    "print('-- Train data: ')\n",
    "print('x:',x_train.shape)\n",
    "print('y:',y_train.shape)\n",
    "\n",
    "print('-- Validation data: ')\n",
    "print('x:',x_val.shape)\n",
    "print('y:',y_val.shape)\n",
    "\n",
    "print('-- Test data: ')\n",
    "print('x:',x_test.shape)\n",
    "print('y:',y_test.shape)"
   ]
  },
  {
   "cell_type": "markdown",
   "metadata": {},
   "source": [
    "Model"
   ]
  },
  {
   "cell_type": "code",
   "execution_count": 77,
   "metadata": {},
   "outputs": [
    {
     "name": "stdout",
     "output_type": "stream",
     "text": [
      "Model: \"sequential_1\"\n",
      "_________________________________________________________________\n",
      " Layer (type)                Output Shape              Param #   \n",
      "=================================================================\n",
      " conv1d_1 (Conv1D)           (None, 148, 64)           256       \n",
      "                                                                 \n",
      " max_pooling1d (MaxPooling1D  (None, 74, 64)           0         \n",
      " )                                                               \n",
      "                                                                 \n",
      " flatten (Flatten)           (None, 4736)              0         \n",
      "                                                                 \n",
      " dense (Dense)               (None, 32)                151584    \n",
      "                                                                 \n",
      " dense_1 (Dense)             (None, 3)                 99        \n",
      "                                                                 \n",
      "=================================================================\n",
      "Total params: 151,939\n",
      "Trainable params: 151,939\n",
      "Non-trainable params: 0\n",
      "_________________________________________________________________\n"
     ]
    }
   ],
   "source": [
    "max_seq = 150\n",
    "num_filter = 64\n",
    "num_classes = 3\n",
    "\n",
    "# BUILD MODEL\n",
    "model = tf.keras.Sequential()\n",
    "\n",
    "model.add(Conv1D(filters=num_filter,kernel_size=3, input_shape=(max_seq,1),padding='valid', activation='relu'))\n",
    "model.add(MaxPooling1D(2))\n",
    "\n",
    "model.add(Flatten())\n",
    "model.add(Dense(32, activation='relu'))\n",
    "model.add(Dense(num_classes, activation='softmax'))\n",
    "\n",
    "# COMPILE\n",
    "model.compile(loss='categorical_crossentropy',optimizer='adam' ,metrics=['accuracy'])\n",
    "model.summary()"
   ]
  },
  {
   "cell_type": "code",
   "execution_count": 78,
   "metadata": {},
   "outputs": [
    {
     "name": "stdout",
     "output_type": "stream",
     "text": [
      "Epoch 1/100\n",
      "149/149 [==============================] - 1s 6ms/step - loss: 0.9780 - accuracy: 0.5288 - val_loss: 0.9591 - val_accuracy: 0.5500\n",
      "Epoch 2/100\n",
      "149/149 [==============================] - 1s 5ms/step - loss: 0.9420 - accuracy: 0.5620 - val_loss: 0.9037 - val_accuracy: 0.5880\n",
      "Epoch 3/100\n",
      "149/149 [==============================] - 1s 6ms/step - loss: 0.9268 - accuracy: 0.5779 - val_loss: 0.9053 - val_accuracy: 0.5887\n",
      "Epoch 4/100\n",
      "149/149 [==============================] - 1s 5ms/step - loss: 0.9277 - accuracy: 0.5766 - val_loss: 0.8965 - val_accuracy: 0.5973\n",
      "Epoch 5/100\n",
      "149/149 [==============================] - 1s 6ms/step - loss: 0.9171 - accuracy: 0.5831 - val_loss: 0.9092 - val_accuracy: 0.5947\n",
      "Epoch 6/100\n",
      "149/149 [==============================] - 1s 5ms/step - loss: 0.9196 - accuracy: 0.5817 - val_loss: 0.9039 - val_accuracy: 0.5847\n",
      "Epoch 7/100\n",
      "149/149 [==============================] - 1s 6ms/step - loss: 0.9150 - accuracy: 0.5872 - val_loss: 0.8934 - val_accuracy: 0.5913\n",
      "Epoch 8/100\n",
      "149/149 [==============================] - 1s 5ms/step - loss: 0.9090 - accuracy: 0.5847 - val_loss: 0.8963 - val_accuracy: 0.6053\n",
      "Epoch 9/100\n",
      "149/149 [==============================] - 1s 5ms/step - loss: 0.9078 - accuracy: 0.5894 - val_loss: 0.8841 - val_accuracy: 0.6047\n",
      "Epoch 10/100\n",
      "149/149 [==============================] - 1s 5ms/step - loss: 0.9049 - accuracy: 0.5949 - val_loss: 0.8852 - val_accuracy: 0.5973\n",
      "Epoch 11/100\n",
      "149/149 [==============================] - 1s 5ms/step - loss: 0.9107 - accuracy: 0.5876 - val_loss: 0.8912 - val_accuracy: 0.6033\n",
      "Epoch 12/100\n",
      "149/149 [==============================] - 1s 6ms/step - loss: 0.9077 - accuracy: 0.5888 - val_loss: 0.8846 - val_accuracy: 0.5933\n",
      "Epoch 13/100\n",
      "149/149 [==============================] - 1s 6ms/step - loss: 0.9089 - accuracy: 0.5856 - val_loss: 0.8820 - val_accuracy: 0.6007\n",
      "Epoch 14/100\n",
      "149/149 [==============================] - 1s 6ms/step - loss: 0.9019 - accuracy: 0.5901 - val_loss: 0.8933 - val_accuracy: 0.6020\n",
      "Epoch 15/100\n",
      "149/149 [==============================] - 1s 5ms/step - loss: 0.9064 - accuracy: 0.5916 - val_loss: 0.8758 - val_accuracy: 0.6027\n",
      "Epoch 16/100\n",
      "149/149 [==============================] - 1s 6ms/step - loss: 0.9032 - accuracy: 0.5951 - val_loss: 0.8799 - val_accuracy: 0.6067\n",
      "Epoch 17/100\n",
      "149/149 [==============================] - 1s 6ms/step - loss: 0.9009 - accuracy: 0.5958 - val_loss: 0.8813 - val_accuracy: 0.6027\n",
      "Epoch 18/100\n",
      "149/149 [==============================] - 1s 5ms/step - loss: 0.8993 - accuracy: 0.5960 - val_loss: 0.8849 - val_accuracy: 0.6007\n",
      "Epoch 19/100\n",
      "149/149 [==============================] - 1s 5ms/step - loss: 0.8981 - accuracy: 0.5941 - val_loss: 0.8997 - val_accuracy: 0.5873\n",
      "Epoch 20/100\n",
      "149/149 [==============================] - 1s 5ms/step - loss: 0.9066 - accuracy: 0.5868 - val_loss: 0.8801 - val_accuracy: 0.6033\n",
      "Epoch 21/100\n",
      "149/149 [==============================] - 1s 5ms/step - loss: 0.8952 - accuracy: 0.5993 - val_loss: 0.8941 - val_accuracy: 0.5933\n",
      "Epoch 22/100\n",
      "149/149 [==============================] - 1s 5ms/step - loss: 0.9016 - accuracy: 0.5908 - val_loss: 0.9082 - val_accuracy: 0.5893\n",
      "Epoch 23/100\n",
      "149/149 [==============================] - 1s 6ms/step - loss: 0.8970 - accuracy: 0.5998 - val_loss: 0.8753 - val_accuracy: 0.6080\n",
      "Epoch 24/100\n",
      "149/149 [==============================] - 1s 6ms/step - loss: 0.8968 - accuracy: 0.5953 - val_loss: 0.8733 - val_accuracy: 0.6093\n",
      "Epoch 25/100\n",
      "149/149 [==============================] - 1s 6ms/step - loss: 0.8951 - accuracy: 0.6002 - val_loss: 0.8761 - val_accuracy: 0.6027\n",
      "Epoch 26/100\n",
      "149/149 [==============================] - 1s 6ms/step - loss: 0.9022 - accuracy: 0.5897 - val_loss: 0.8943 - val_accuracy: 0.6000\n",
      "Epoch 27/100\n",
      "149/149 [==============================] - 1s 7ms/step - loss: 0.8930 - accuracy: 0.6004 - val_loss: 0.9032 - val_accuracy: 0.5947\n",
      "Epoch 28/100\n",
      "149/149 [==============================] - 1s 7ms/step - loss: 0.8934 - accuracy: 0.5964 - val_loss: 0.8818 - val_accuracy: 0.6093\n",
      "Epoch 29/100\n",
      "149/149 [==============================] - 1s 6ms/step - loss: 0.8934 - accuracy: 0.6011 - val_loss: 0.8785 - val_accuracy: 0.6060\n",
      "Epoch 30/100\n",
      "149/149 [==============================] - 1s 6ms/step - loss: 0.8965 - accuracy: 0.5960 - val_loss: 0.8837 - val_accuracy: 0.6000\n",
      "Epoch 31/100\n",
      "149/149 [==============================] - 1s 7ms/step - loss: 0.8914 - accuracy: 0.5979 - val_loss: 0.8875 - val_accuracy: 0.6000\n",
      "Epoch 32/100\n",
      "149/149 [==============================] - 1s 6ms/step - loss: 0.8923 - accuracy: 0.5981 - val_loss: 0.8798 - val_accuracy: 0.6047\n",
      "Epoch 33/100\n",
      "149/149 [==============================] - 1s 6ms/step - loss: 0.8875 - accuracy: 0.6068 - val_loss: 0.9185 - val_accuracy: 0.5873\n",
      "Epoch 34/100\n",
      "149/149 [==============================] - 1s 6ms/step - loss: 0.8997 - accuracy: 0.5914 - val_loss: 0.8734 - val_accuracy: 0.6100\n",
      "Epoch 35/100\n",
      "149/149 [==============================] - 1s 6ms/step - loss: 0.8888 - accuracy: 0.5980 - val_loss: 0.8807 - val_accuracy: 0.6040\n",
      "Epoch 36/100\n",
      "149/149 [==============================] - 1s 6ms/step - loss: 0.8873 - accuracy: 0.6014 - val_loss: 0.8726 - val_accuracy: 0.6093\n",
      "Epoch 37/100\n",
      "149/149 [==============================] - 1s 6ms/step - loss: 0.8916 - accuracy: 0.6002 - val_loss: 0.8737 - val_accuracy: 0.6147\n",
      "Epoch 38/100\n",
      "149/149 [==============================] - 1s 6ms/step - loss: 0.8918 - accuracy: 0.6012 - val_loss: 0.8765 - val_accuracy: 0.6067\n",
      "Epoch 39/100\n",
      "149/149 [==============================] - 1s 6ms/step - loss: 0.8880 - accuracy: 0.6051 - val_loss: 0.8851 - val_accuracy: 0.6060\n",
      "Epoch 40/100\n",
      "149/149 [==============================] - 1s 6ms/step - loss: 0.8869 - accuracy: 0.6068 - val_loss: 0.8684 - val_accuracy: 0.6060\n",
      "Epoch 41/100\n",
      "149/149 [==============================] - 1s 6ms/step - loss: 0.8905 - accuracy: 0.6020 - val_loss: 0.8871 - val_accuracy: 0.6067\n",
      "Epoch 42/100\n",
      "149/149 [==============================] - 1s 6ms/step - loss: 0.8937 - accuracy: 0.6002 - val_loss: 0.8752 - val_accuracy: 0.6147\n",
      "Epoch 43/100\n",
      "149/149 [==============================] - 1s 7ms/step - loss: 0.8873 - accuracy: 0.6057 - val_loss: 0.8705 - val_accuracy: 0.6113\n",
      "Epoch 44/100\n",
      "149/149 [==============================] - 1s 7ms/step - loss: 0.8845 - accuracy: 0.6061 - val_loss: 0.8725 - val_accuracy: 0.6067\n",
      "Epoch 45/100\n",
      "149/149 [==============================] - 1s 7ms/step - loss: 0.8891 - accuracy: 0.5997 - val_loss: 0.8716 - val_accuracy: 0.6073\n",
      "Epoch 46/100\n",
      "149/149 [==============================] - 1s 7ms/step - loss: 0.8864 - accuracy: 0.6033 - val_loss: 0.8664 - val_accuracy: 0.6080\n",
      "Epoch 47/100\n",
      "149/149 [==============================] - 1s 6ms/step - loss: 0.8884 - accuracy: 0.6017 - val_loss: 0.8708 - val_accuracy: 0.6127\n",
      "Epoch 48/100\n",
      "149/149 [==============================] - 1s 7ms/step - loss: 0.8881 - accuracy: 0.5998 - val_loss: 0.9026 - val_accuracy: 0.5967\n",
      "Epoch 49/100\n",
      "149/149 [==============================] - 1s 6ms/step - loss: 0.8852 - accuracy: 0.6044 - val_loss: 0.8740 - val_accuracy: 0.6120\n",
      "Epoch 50/100\n",
      "149/149 [==============================] - 1s 6ms/step - loss: 0.8828 - accuracy: 0.6054 - val_loss: 0.9175 - val_accuracy: 0.5980\n",
      "Epoch 51/100\n",
      "149/149 [==============================] - 1s 6ms/step - loss: 0.8850 - accuracy: 0.6052 - val_loss: 0.8680 - val_accuracy: 0.6153\n",
      "Epoch 52/100\n",
      "149/149 [==============================] - 1s 6ms/step - loss: 0.8843 - accuracy: 0.6053 - val_loss: 0.8739 - val_accuracy: 0.6020\n",
      "Epoch 53/100\n",
      "149/149 [==============================] - 1s 6ms/step - loss: 0.8832 - accuracy: 0.6080 - val_loss: 0.8743 - val_accuracy: 0.6027\n",
      "Epoch 54/100\n",
      "149/149 [==============================] - 1s 6ms/step - loss: 0.8860 - accuracy: 0.6076 - val_loss: 0.8709 - val_accuracy: 0.6120\n",
      "Epoch 55/100\n",
      "149/149 [==============================] - 1s 6ms/step - loss: 0.8817 - accuracy: 0.6062 - val_loss: 0.8657 - val_accuracy: 0.6127\n",
      "Epoch 56/100\n",
      "149/149 [==============================] - 1s 6ms/step - loss: 0.8873 - accuracy: 0.6023 - val_loss: 0.8682 - val_accuracy: 0.6087\n",
      "Epoch 57/100\n",
      "149/149 [==============================] - 1s 6ms/step - loss: 0.8814 - accuracy: 0.6074 - val_loss: 0.8680 - val_accuracy: 0.6160\n",
      "Epoch 58/100\n",
      "149/149 [==============================] - 1s 6ms/step - loss: 0.8846 - accuracy: 0.6067 - val_loss: 0.8791 - val_accuracy: 0.5987\n",
      "Epoch 59/100\n",
      "149/149 [==============================] - 1s 6ms/step - loss: 0.8818 - accuracy: 0.6051 - val_loss: 0.8663 - val_accuracy: 0.6127\n",
      "Epoch 60/100\n",
      "149/149 [==============================] - 1s 7ms/step - loss: 0.8818 - accuracy: 0.6062 - val_loss: 0.8682 - val_accuracy: 0.6180\n",
      "Epoch 61/100\n",
      "149/149 [==============================] - 1s 7ms/step - loss: 0.8858 - accuracy: 0.6044 - val_loss: 0.8658 - val_accuracy: 0.6100\n",
      "Epoch 62/100\n",
      "149/149 [==============================] - 1s 6ms/step - loss: 0.8847 - accuracy: 0.6042 - val_loss: 0.8672 - val_accuracy: 0.6147\n",
      "Epoch 63/100\n",
      "149/149 [==============================] - 1s 6ms/step - loss: 0.8810 - accuracy: 0.6092 - val_loss: 0.8679 - val_accuracy: 0.6193\n",
      "Epoch 64/100\n",
      "149/149 [==============================] - 1s 6ms/step - loss: 0.8822 - accuracy: 0.6074 - val_loss: 0.8653 - val_accuracy: 0.6147\n",
      "Epoch 65/100\n",
      "149/149 [==============================] - 1s 6ms/step - loss: 0.8824 - accuracy: 0.6025 - val_loss: 0.8726 - val_accuracy: 0.6080\n",
      "Epoch 66/100\n",
      "149/149 [==============================] - 1s 6ms/step - loss: 0.8821 - accuracy: 0.6065 - val_loss: 0.8650 - val_accuracy: 0.6153\n",
      "Epoch 67/100\n",
      "149/149 [==============================] - 1s 6ms/step - loss: 0.8811 - accuracy: 0.6044 - val_loss: 0.8791 - val_accuracy: 0.6007\n",
      "Epoch 68/100\n",
      "149/149 [==============================] - 1s 6ms/step - loss: 0.8780 - accuracy: 0.6105 - val_loss: 0.8842 - val_accuracy: 0.6020\n",
      "Epoch 69/100\n",
      "149/149 [==============================] - 1s 6ms/step - loss: 0.8800 - accuracy: 0.6073 - val_loss: 0.8775 - val_accuracy: 0.5960\n",
      "Epoch 70/100\n",
      "149/149 [==============================] - 1s 6ms/step - loss: 0.8795 - accuracy: 0.6098 - val_loss: 0.8775 - val_accuracy: 0.6047\n",
      "Epoch 71/100\n",
      "149/149 [==============================] - 1s 6ms/step - loss: 0.8769 - accuracy: 0.6085 - val_loss: 0.8939 - val_accuracy: 0.6013\n",
      "Epoch 72/100\n",
      "149/149 [==============================] - 1s 6ms/step - loss: 0.8805 - accuracy: 0.6060 - val_loss: 0.8707 - val_accuracy: 0.6127\n",
      "Epoch 73/100\n",
      "149/149 [==============================] - 1s 6ms/step - loss: 0.8773 - accuracy: 0.6115 - val_loss: 0.8674 - val_accuracy: 0.6107\n",
      "Epoch 74/100\n",
      "149/149 [==============================] - 1s 6ms/step - loss: 0.8785 - accuracy: 0.6092 - val_loss: 0.8711 - val_accuracy: 0.6113\n",
      "Epoch 75/100\n",
      "149/149 [==============================] - 1s 6ms/step - loss: 0.8824 - accuracy: 0.6022 - val_loss: 0.8730 - val_accuracy: 0.6093\n",
      "Epoch 76/100\n",
      "149/149 [==============================] - 1s 6ms/step - loss: 0.8796 - accuracy: 0.6046 - val_loss: 0.8641 - val_accuracy: 0.6227\n",
      "Epoch 77/100\n",
      "149/149 [==============================] - 1s 6ms/step - loss: 0.8763 - accuracy: 0.6136 - val_loss: 0.8671 - val_accuracy: 0.6140\n",
      "Epoch 78/100\n",
      "149/149 [==============================] - 1s 6ms/step - loss: 0.8784 - accuracy: 0.6064 - val_loss: 0.8656 - val_accuracy: 0.6180\n",
      "Epoch 79/100\n",
      "149/149 [==============================] - 1s 6ms/step - loss: 0.8784 - accuracy: 0.6073 - val_loss: 0.8654 - val_accuracy: 0.6160\n",
      "Epoch 80/100\n",
      "149/149 [==============================] - 1s 6ms/step - loss: 0.8757 - accuracy: 0.6094 - val_loss: 0.8624 - val_accuracy: 0.6147\n",
      "Epoch 81/100\n",
      "149/149 [==============================] - 1s 6ms/step - loss: 0.8790 - accuracy: 0.6053 - val_loss: 0.8663 - val_accuracy: 0.6147\n",
      "Epoch 82/100\n",
      "149/149 [==============================] - 1s 6ms/step - loss: 0.8765 - accuracy: 0.6111 - val_loss: 0.8848 - val_accuracy: 0.5940\n",
      "Epoch 83/100\n",
      "149/149 [==============================] - 1s 6ms/step - loss: 0.8790 - accuracy: 0.6063 - val_loss: 0.8642 - val_accuracy: 0.6160\n",
      "Epoch 84/100\n",
      "149/149 [==============================] - 1s 6ms/step - loss: 0.8772 - accuracy: 0.6088 - val_loss: 0.8796 - val_accuracy: 0.5960\n",
      "Epoch 85/100\n",
      "149/149 [==============================] - 1s 6ms/step - loss: 0.8768 - accuracy: 0.6092 - val_loss: 0.8703 - val_accuracy: 0.6073\n",
      "Epoch 86/100\n",
      "149/149 [==============================] - 1s 6ms/step - loss: 0.8803 - accuracy: 0.6048 - val_loss: 0.8651 - val_accuracy: 0.6180\n",
      "Epoch 87/100\n",
      "149/149 [==============================] - 1s 6ms/step - loss: 0.8751 - accuracy: 0.6086 - val_loss: 0.8670 - val_accuracy: 0.6193\n",
      "Epoch 88/100\n",
      "149/149 [==============================] - 1s 6ms/step - loss: 0.8735 - accuracy: 0.6101 - val_loss: 0.8668 - val_accuracy: 0.6127\n",
      "Epoch 89/100\n",
      "149/149 [==============================] - 1s 6ms/step - loss: 0.8745 - accuracy: 0.6116 - val_loss: 0.9216 - val_accuracy: 0.5767\n",
      "Epoch 90/100\n",
      "149/149 [==============================] - 1s 6ms/step - loss: 0.8869 - accuracy: 0.6011 - val_loss: 0.8631 - val_accuracy: 0.6200\n",
      "Epoch 91/100\n",
      "149/149 [==============================] - 1s 6ms/step - loss: 0.8732 - accuracy: 0.6111 - val_loss: 0.8632 - val_accuracy: 0.6167\n",
      "Epoch 92/100\n",
      "149/149 [==============================] - 1s 6ms/step - loss: 0.8765 - accuracy: 0.6079 - val_loss: 0.8649 - val_accuracy: 0.6147\n",
      "Epoch 93/100\n",
      "149/149 [==============================] - 1s 6ms/step - loss: 0.8759 - accuracy: 0.6095 - val_loss: 0.8748 - val_accuracy: 0.6087\n",
      "Epoch 94/100\n",
      "149/149 [==============================] - 1s 6ms/step - loss: 0.8741 - accuracy: 0.6094 - val_loss: 0.8680 - val_accuracy: 0.6053\n",
      "Epoch 95/100\n",
      "149/149 [==============================] - 1s 6ms/step - loss: 0.8747 - accuracy: 0.6088 - val_loss: 0.8693 - val_accuracy: 0.6120\n",
      "Epoch 96/100\n",
      "149/149 [==============================] - 1s 6ms/step - loss: 0.8716 - accuracy: 0.6127 - val_loss: 0.8669 - val_accuracy: 0.6147\n",
      "Epoch 97/100\n",
      "149/149 [==============================] - 1s 6ms/step - loss: 0.8731 - accuracy: 0.6126 - val_loss: 0.8607 - val_accuracy: 0.6220\n",
      "Epoch 98/100\n",
      "149/149 [==============================] - 1s 6ms/step - loss: 0.8738 - accuracy: 0.6099 - val_loss: 0.8651 - val_accuracy: 0.6127\n",
      "Epoch 99/100\n",
      "149/149 [==============================] - 1s 6ms/step - loss: 0.8717 - accuracy: 0.6140 - val_loss: 0.8649 - val_accuracy: 0.6093\n",
      "Epoch 100/100\n",
      "149/149 [==============================] - 1s 6ms/step - loss: 0.8752 - accuracy: 0.6091 - val_loss: 0.8689 - val_accuracy: 0.6153\n"
     ]
    }
   ],
   "source": [
    "num_epochs = 100\n",
    "batch_size = 64\n",
    "history = model.fit(x_train, y_train, \n",
    "                    epochs=num_epochs, \n",
    "                    batch_size=batch_size,\n",
    "                    validation_data=(x_val,y_val), \n",
    "                    verbose=1)"
   ]
  },
  {
   "cell_type": "code",
   "execution_count": 79,
   "metadata": {},
   "outputs": [
    {
     "name": "stdout",
     "output_type": "stream",
     "text": [
      "21/21 [==============================] - 0s 3ms/step - loss: 0.8720 - accuracy: 0.6070\n"
     ]
    }
   ],
   "source": [
    "loss, acc = model.evaluate(x_test, y_test,\n",
    "                            batch_size=batch_size)"
   ]
  },
  {
   "cell_type": "code",
   "execution_count": 80,
   "metadata": {},
   "outputs": [
    {
     "data": {
      "image/png": "[encoded data removed]",
      "text/plain": [
       "<Figure size 800x600 with 1 Axes>"
      ]
     },
     "metadata": {},
     "output_type": "display_data"
    }
   ],
   "source": [
    "figure = plt.figure(figsize=(8,6))               \n",
    "plt.plot(history.history['accuracy'], label='train')\n",
    "\n",
    "plt.plot(history.history['val_accuracy'], label = 'validation')\n",
    "\n",
    "plt.xlabel('Epoch')\n",
    "plt.ylabel('Accuracy')\n",
    "plt.ylim([0.3, 1])\n",
    "plt.legend(loc='lower right')\n",
    "plt.show()"
   ]
  },
  {
   "cell_type": "code",
   "execution_count": 81,
   "metadata": {},
   "outputs": [
    {
     "data": {
      "image/png": "[encoded data removed]",
      "text/plain": [
       "<Figure size 800x600 with 1 Axes>"
      ]
     },
     "metadata": {},
     "output_type": "display_data"
    }
   ],
   "source": [
    "figure = plt.figure(figsize=(8,6))               \n",
    "plt.plot(history.history['loss'], label='train')\n",
    "\n",
    "plt.plot(history.history['val_loss'], label = 'validation')\n",
    "\n",
    "plt.xlabel('Epoch')\n",
    "plt.ylabel('Loss')\n",
    "plt.ylim([0, 1.5])\n",
    "plt.legend(loc='lower right')\n",
    "plt.show()"
   ]
  },
  {
   "cell_type": "code",
   "execution_count": null,
   "metadata": {},
   "outputs": [],
   "source": []
  }
 ],
 "metadata": {
  "kernelspec": {
   "display_name": "Python 3.10.7 64-bit",
   "language": "python",
   "name": "python3"
  },
  "language_info": {
   "codemirror_mode": {
    "name": "ipython",
    "version": 3
   },
   "file_extension": ".py",
   "mimetype": "text/x-python",
   "name": "python",
   "nbconvert_exporter": "python",
   "pygments_lexer": "ipython3",
   "version": "3.10.7"
  },
  "orig_nbformat": 4,
  "vscode": {
   "interpreter": {
    "hash": "aee8b7b246df8f9039afb4144a1f6fd8d2ca17a180786b69acc140d282b71a49"
   }
  }
 },
 "nbformat": 4,
 "nbformat_minor": 2
}
